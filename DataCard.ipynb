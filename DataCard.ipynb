{
 "cells": [
  {
   "cell_type": "markdown",
   "id": "ca7e8c24",
   "metadata": {},
   "source": [
    "# DATA CARD"
   ]
  },
  {
   "cell_type": "code",
   "execution_count": 1,
   "id": "ade09779",
   "metadata": {
    "execution": {
     "iopub.execute_input": "2022-08-06T11:34:53.628275Z",
     "iopub.status.busy": "2022-08-06T11:34:53.628275Z",
     "iopub.status.idle": "2022-08-06T11:34:54.474048Z",
     "shell.execute_reply": "2022-08-06T11:34:54.472517Z"
    }
   },
   "outputs": [],
   "source": [
    "import pyodbc\n",
    "import pandas as pd"
   ]
  },
  {
   "cell_type": "code",
   "execution_count": 2,
   "id": "10a73873",
   "metadata": {
    "execution": {
     "iopub.execute_input": "2022-08-06T11:34:54.479055Z",
     "iopub.status.busy": "2022-08-06T11:34:54.479055Z",
     "iopub.status.idle": "2022-08-06T11:34:54.598119Z",
     "shell.execute_reply": "2022-08-06T11:34:54.596118Z"
    }
   },
   "outputs": [],
   "source": [
    "cnxn = pyodbc.connect(\"Driver={SQL Server Native Client 11.0};\"\n",
    "                        \"Server=wd02;\"\n",
    "                        \"Database=FootPrint;\"\n",
    "                        \"Trusted_Connection=yes;\")"
   ]
  },
  {
   "cell_type": "markdown",
   "id": "d807b563",
   "metadata": {},
   "source": [
    "## Query - Week"
   ]
  },
  {
   "cell_type": "code",
   "execution_count": 3,
   "id": "2ed41c65",
   "metadata": {
    "execution": {
     "iopub.execute_input": "2022-08-06T11:34:54.606108Z",
     "iopub.status.busy": "2022-08-06T11:34:54.605109Z",
     "iopub.status.idle": "2022-08-06T11:34:55.358969Z",
     "shell.execute_reply": "2022-08-06T11:34:55.356900Z"
    }
   },
   "outputs": [],
   "source": [
    "w10 = pd.read_sql_query(\"DECLARE @week INT, @year INT SET datefirst 1\\\n",
    "    SET @week=datepart(week, GetDate()) SET @year=datepart(year, GetDate())\\\n",
    "    \\\n",
    "    select description Description, d1 Monday, d2 Tuesday, d3 Wednesday, d4 Thursday, d5 Friday\\\n",
    "    from KPower_BI.RHL_DataCard_Report(@year,@week,1)\\\n",
    "    where itemsId in (4, 5, 8, 72, 73)\\\n",
    "    order by itemsId\", cnxn)\n",
    "\n",
    "w12 = pd.read_sql_query(\"DECLARE @week INT, @year INT SET datefirst 1\\\n",
    "    SET @week=datepart(week, GetDate()) SET @year=datepart(year, GetDate())\\\n",
    "    \\\n",
    "    select description Description, d1 Monday, d2 Tuesday, d3 Wednesday, d4 Thursday, d5 Friday\\\n",
    "    from KPower_BI.RHL_DataCard_Report(@year,@week,9)\\\n",
    "    where itemsId in (4, 5, 8, 72, 73)\\\n",
    "    order by itemsId\", cnxn)\n",
    "\n",
    "w15 = pd.read_sql_query(\"DECLARE @week INT, @year INT SET datefirst 1\\\n",
    "    SET @week=datepart(week, GetDate()) SET @year=datepart(year, GetDate())\\\n",
    "    \\\n",
    "    select description Description, d1 Monday, d2 Tuesday, d3 Wednesday, d4 Thursday, d5 Friday\\\n",
    "    from KPower_BI.RHL_DataCard_Report(@year,@week,12)\\\n",
    "    where itemsId in (4, 5, 8, 72, 73)\\\n",
    "    order by itemsId\", cnxn)\n",
    "\n",
    "w16 = pd.read_sql_query(\"DECLARE @week INT, @year INT SET datefirst 1\\\n",
    "    SET @week=datepart(week, GetDate()) SET @year=datepart(year, GetDate())\\\n",
    "    \\\n",
    "    select description Description, d1 Monday, d2 Tuesday, d3 Wednesday, d4 Thursday, d5 Friday\\\n",
    "    from KPower_BI.RHL_DataCard_Report(@year,@week,14)\\\n",
    "    where itemsId in (4, 5, 8, 72, 73)\\\n",
    "    order by itemsId\", cnxn)\n",
    "\n",
    "w18 = pd.read_sql_query(\"DECLARE @week INT, @year INT SET datefirst 1\\\n",
    "    SET @week=datepart(week, GetDate()) SET @year=datepart(year, GetDate())\\\n",
    "    \\\n",
    "    select description Description, d1 Monday, d2 Tuesday, d3 Wednesday, d4 Thursday, d5 Friday\\\n",
    "    from KPower_BI.RHL_DataCard_Report(@year,@week,20)\\\n",
    "    where itemsId in (4, 5, 8, 72, 73)\\\n",
    "    order by itemsId\", cnxn)\n",
    "\n",
    "w19 = pd.read_sql_query(\"DECLARE @week INT, @year INT SET datefirst 1\\\n",
    "    SET @week=datepart(week, GetDate()) SET @year=datepart(year, GetDate())\\\n",
    "    \\\n",
    "    select description Description, d1 Monday, d2 Tuesday, d3 Wednesday, d4 Thursday, d5 Friday\\\n",
    "    from KPower_BI.RHL_DataCard_Report(@year,@week,16)\\\n",
    "    where itemsId in (4, 5, 8, 72, 73)\\\n",
    "    order by itemsId\", cnxn)\n",
    "\n",
    "w20 = pd.read_sql_query(\"DECLARE @week INT, @year INT SET datefirst 1\\\n",
    "    SET @week=datepart(week, GetDate()) SET @year=datepart(year, GetDate())\\\n",
    "    \\\n",
    "    select description Description, d1 Monday, d2 Tuesday, d3 Wednesday, d4 Thursday, d5 Friday\\\n",
    "    from KPower_BI.RHL_DataCard_Report(@year,@week,23)\\\n",
    "    where itemsId in (4, 5, 8, 72, 73)\\\n",
    "    order by itemsId\", cnxn)\n",
    "\n",
    "w21 = pd.read_sql_query(\"DECLARE @week INT, @year INT SET datefirst 1\\\n",
    "    SET @week=datepart(week, GetDate()) SET @year=datepart(year, GetDate())\\\n",
    "    \\\n",
    "    select description Description, d1 Monday, d2 Tuesday, d3 Wednesday, d4 Thursday, d5 Friday\\\n",
    "    from KPower_BI.RHL_DataCard_Report(@year,@week,25)\\\n",
    "    where itemsId in (4, 5, 8, 72, 73)\\\n",
    "    order by itemsId\", cnxn)\n",
    "\n",
    "w22 = pd.read_sql_query(\"DECLARE @week INT, @year INT SET datefirst 1\\\n",
    "    SET @week=datepart(week, GetDate()) SET @year=datepart(year, GetDate())\\\n",
    "    \\\n",
    "    select description Description, d1 Monday, d2 Tuesday, d3 Wednesday, d4 Thursday, d5 Friday\\\n",
    "    from KPower_BI.RHL_DataCard_Report(@year,@week,26)\\\n",
    "    where itemsId in (4, 5, 8, 72, 73)\\\n",
    "    order by itemsId\", cnxn)"
   ]
  },
  {
   "cell_type": "code",
   "execution_count": 4,
   "id": "93506af4",
   "metadata": {
    "execution": {
     "iopub.execute_input": "2022-08-06T11:34:55.369011Z",
     "iopub.status.busy": "2022-08-06T11:34:55.369011Z",
     "iopub.status.idle": "2022-08-06T11:34:55.407009Z",
     "shell.execute_reply": "2022-08-06T11:34:55.403008Z"
    }
   },
   "outputs": [],
   "source": [
    "# Add warehouse number column\n",
    "w10['Warehouse'] = 10\n",
    "w12['Warehouse'] = 12\n",
    "w15['Warehouse'] = 15\n",
    "w16['Warehouse'] = 16\n",
    "w18['Warehouse'] = 18\n",
    "w19['Warehouse'] = 19\n",
    "w20['Warehouse'] = 20\n",
    "w21['Warehouse'] = 21\n",
    "w22['Warehouse'] = 22"
   ]
  },
  {
   "cell_type": "code",
   "execution_count": 5,
   "id": "7538a84a",
   "metadata": {
    "execution": {
     "iopub.execute_input": "2022-08-06T11:34:55.416955Z",
     "iopub.status.busy": "2022-08-06T11:34:55.415958Z",
     "iopub.status.idle": "2022-08-06T11:34:55.450679Z",
     "shell.execute_reply": "2022-08-06T11:34:55.449143Z"
    }
   },
   "outputs": [],
   "source": [
    "# Adding Year to the OUTBOUND ORDERS row\n",
    "w10.at[0, 'Description'] = 'OUTBOUND ORDERS 2021'\n",
    "w10.at[1, 'Description'] = 'OUTBOUND ORDERS 2022'\n",
    "\n",
    "w12.at[0, 'Description'] = 'OUTBOUND ORDERS 2021'\n",
    "w12.at[1, 'Description'] = 'OUTBOUND ORDERS 2022'\n",
    "\n",
    "w15.at[0, 'Description'] = 'OUTBOUND ORDERS 2021'\n",
    "w15.at[1, 'Description'] = 'OUTBOUND ORDERS 2022'\n",
    "\n",
    "w16.at[0, 'Description'] = 'OUTBOUND ORDERS 2021'\n",
    "w16.at[1, 'Description'] = 'OUTBOUND ORDERS 2022'\n",
    "\n",
    "w18.at[0, 'Description'] = 'OUTBOUND ORDERS 2021'\n",
    "w18.at[1, 'Description'] = 'OUTBOUND ORDERS 2022'\n",
    "\n",
    "w19.at[0, 'Description'] = 'OUTBOUND ORDERS 2021'\n",
    "w19.at[1, 'Description'] = 'OUTBOUND ORDERS 2022'\n",
    "\n",
    "w20.at[0, 'Description'] = 'OUTBOUND ORDERS 2021'\n",
    "w20.at[1, 'Description'] = 'OUTBOUND ORDERS 2022'\n",
    "\n",
    "w21.at[0, 'Description'] = 'OUTBOUND ORDERS 2021'\n",
    "w21.at[1, 'Description'] = 'OUTBOUND ORDERS 2022'\n",
    "\n",
    "w22.at[0, 'Description'] = 'OUTBOUND ORDERS 2021'\n",
    "w22.at[1, 'Description'] = 'OUTBOUND ORDERS 2022'"
   ]
  },
  {
   "cell_type": "code",
   "execution_count": 6,
   "id": "bb33ca30",
   "metadata": {
    "execution": {
     "iopub.execute_input": "2022-08-06T11:34:55.456677Z",
     "iopub.status.busy": "2022-08-06T11:34:55.455674Z",
     "iopub.status.idle": "2022-08-06T11:34:55.465675Z",
     "shell.execute_reply": "2022-08-06T11:34:55.464677Z"
    }
   },
   "outputs": [],
   "source": [
    "# Concatenate all warehouses\n",
    "df = pd.concat([w10, w12, w15, w16, w18, w19, w20, w21, w22])"
   ]
  },
  {
   "cell_type": "code",
   "execution_count": 7,
   "id": "68feda79",
   "metadata": {
    "execution": {
     "iopub.execute_input": "2022-08-06T11:34:55.471711Z",
     "iopub.status.busy": "2022-08-06T11:34:55.470716Z",
     "iopub.status.idle": "2022-08-06T11:34:55.511807Z",
     "shell.execute_reply": "2022-08-06T11:34:55.510852Z"
    }
   },
   "outputs": [
    {
     "data": {
      "text/html": [
       "<div>\n",
       "<style scoped>\n",
       "    .dataframe tbody tr th:only-of-type {\n",
       "        vertical-align: middle;\n",
       "    }\n",
       "\n",
       "    .dataframe tbody tr th {\n",
       "        vertical-align: top;\n",
       "    }\n",
       "\n",
       "    .dataframe thead th {\n",
       "        text-align: right;\n",
       "    }\n",
       "</style>\n",
       "<table border=\"1\" class=\"dataframe\">\n",
       "  <thead>\n",
       "    <tr style=\"text-align: right;\">\n",
       "      <th></th>\n",
       "      <th>Warehouse</th>\n",
       "      <th>Description</th>\n",
       "      <th>Monday</th>\n",
       "      <th>Tuesday</th>\n",
       "      <th>Wednesday</th>\n",
       "      <th>Thursday</th>\n",
       "      <th>Friday</th>\n",
       "    </tr>\n",
       "  </thead>\n",
       "  <tbody>\n",
       "    <tr>\n",
       "      <th>0</th>\n",
       "      <td>10</td>\n",
       "      <td>OUTBOUND ORDERS 2021</td>\n",
       "      <td>674</td>\n",
       "      <td>643</td>\n",
       "      <td>780</td>\n",
       "      <td>780</td>\n",
       "      <td>472</td>\n",
       "    </tr>\n",
       "    <tr>\n",
       "      <th>1</th>\n",
       "      <td>10</td>\n",
       "      <td>OUTBOUND ORDERS 2022</td>\n",
       "      <td>502</td>\n",
       "      <td>362</td>\n",
       "      <td>364</td>\n",
       "      <td>338</td>\n",
       "      <td>268</td>\n",
       "    </tr>\n",
       "    <tr>\n",
       "      <th>2</th>\n",
       "      <td>10</td>\n",
       "      <td>NEW ORDERS</td>\n",
       "      <td>449</td>\n",
       "      <td>353</td>\n",
       "      <td>352</td>\n",
       "      <td>352</td>\n",
       "      <td>216</td>\n",
       "    </tr>\n",
       "    <tr>\n",
       "      <th>3</th>\n",
       "      <td>10</td>\n",
       "      <td>CARRYOVER ORDERS</td>\n",
       "      <td>54</td>\n",
       "      <td>43</td>\n",
       "      <td>38</td>\n",
       "      <td>67</td>\n",
       "      <td>38</td>\n",
       "    </tr>\n",
       "    <tr>\n",
       "      <th>4</th>\n",
       "      <td>10</td>\n",
       "      <td>OPEN ORDERS &gt; 7 DAYS</td>\n",
       "      <td>14</td>\n",
       "      <td>13</td>\n",
       "      <td>10</td>\n",
       "      <td>10</td>\n",
       "      <td>7</td>\n",
       "    </tr>\n",
       "    <tr>\n",
       "      <th>0</th>\n",
       "      <td>12</td>\n",
       "      <td>OUTBOUND ORDERS 2021</td>\n",
       "      <td>36</td>\n",
       "      <td>65</td>\n",
       "      <td>26</td>\n",
       "      <td>38</td>\n",
       "      <td>18</td>\n",
       "    </tr>\n",
       "    <tr>\n",
       "      <th>1</th>\n",
       "      <td>12</td>\n",
       "      <td>OUTBOUND ORDERS 2022</td>\n",
       "      <td>54</td>\n",
       "      <td>27</td>\n",
       "      <td>16</td>\n",
       "      <td>23</td>\n",
       "      <td>24</td>\n",
       "    </tr>\n",
       "    <tr>\n",
       "      <th>2</th>\n",
       "      <td>12</td>\n",
       "      <td>NEW ORDERS</td>\n",
       "      <td>35</td>\n",
       "      <td>21</td>\n",
       "      <td>24</td>\n",
       "      <td>21</td>\n",
       "      <td>21</td>\n",
       "    </tr>\n",
       "    <tr>\n",
       "      <th>3</th>\n",
       "      <td>12</td>\n",
       "      <td>CARRYOVER ORDERS</td>\n",
       "      <td>0</td>\n",
       "      <td>3</td>\n",
       "      <td>5</td>\n",
       "      <td>2</td>\n",
       "      <td>0</td>\n",
       "    </tr>\n",
       "    <tr>\n",
       "      <th>4</th>\n",
       "      <td>12</td>\n",
       "      <td>OPEN ORDERS &gt; 7 DAYS</td>\n",
       "      <td>3</td>\n",
       "      <td>3</td>\n",
       "      <td>2</td>\n",
       "      <td>2</td>\n",
       "      <td>2</td>\n",
       "    </tr>\n",
       "    <tr>\n",
       "      <th>0</th>\n",
       "      <td>15</td>\n",
       "      <td>OUTBOUND ORDERS 2021</td>\n",
       "      <td>134</td>\n",
       "      <td>208</td>\n",
       "      <td>174</td>\n",
       "      <td>202</td>\n",
       "      <td>97</td>\n",
       "    </tr>\n",
       "    <tr>\n",
       "      <th>1</th>\n",
       "      <td>15</td>\n",
       "      <td>OUTBOUND ORDERS 2022</td>\n",
       "      <td>52</td>\n",
       "      <td>117</td>\n",
       "      <td>52</td>\n",
       "      <td>10</td>\n",
       "      <td>25</td>\n",
       "    </tr>\n",
       "    <tr>\n",
       "      <th>2</th>\n",
       "      <td>15</td>\n",
       "      <td>NEW ORDERS</td>\n",
       "      <td>126</td>\n",
       "      <td>76</td>\n",
       "      <td>32</td>\n",
       "      <td>33</td>\n",
       "      <td>12</td>\n",
       "    </tr>\n",
       "    <tr>\n",
       "      <th>3</th>\n",
       "      <td>15</td>\n",
       "      <td>CARRYOVER ORDERS</td>\n",
       "      <td>0</td>\n",
       "      <td>0</td>\n",
       "      <td>0</td>\n",
       "      <td>1</td>\n",
       "      <td>0</td>\n",
       "    </tr>\n",
       "    <tr>\n",
       "      <th>4</th>\n",
       "      <td>15</td>\n",
       "      <td>OPEN ORDERS &gt; 7 DAYS</td>\n",
       "      <td>1</td>\n",
       "      <td>1</td>\n",
       "      <td>1</td>\n",
       "      <td>1</td>\n",
       "      <td>1</td>\n",
       "    </tr>\n",
       "    <tr>\n",
       "      <th>0</th>\n",
       "      <td>16</td>\n",
       "      <td>OUTBOUND ORDERS 2021</td>\n",
       "      <td>19</td>\n",
       "      <td>11</td>\n",
       "      <td>20</td>\n",
       "      <td>17</td>\n",
       "      <td>16</td>\n",
       "    </tr>\n",
       "  </tbody>\n",
       "</table>\n",
       "</div>"
      ],
      "text/plain": [
       "   Warehouse           Description Monday Tuesday Wednesday Thursday Friday\n",
       "0         10  OUTBOUND ORDERS 2021    674     643       780      780    472\n",
       "1         10  OUTBOUND ORDERS 2022    502     362       364      338    268\n",
       "2         10            NEW ORDERS    449     353       352      352    216\n",
       "3         10      CARRYOVER ORDERS     54      43        38       67     38\n",
       "4         10  OPEN ORDERS > 7 DAYS     14      13        10       10      7\n",
       "0         12  OUTBOUND ORDERS 2021     36      65        26       38     18\n",
       "1         12  OUTBOUND ORDERS 2022     54      27        16       23     24\n",
       "2         12            NEW ORDERS     35      21        24       21     21\n",
       "3         12      CARRYOVER ORDERS      0       3         5        2      0\n",
       "4         12  OPEN ORDERS > 7 DAYS      3       3         2        2      2\n",
       "0         15  OUTBOUND ORDERS 2021    134     208       174      202     97\n",
       "1         15  OUTBOUND ORDERS 2022     52     117        52       10     25\n",
       "2         15            NEW ORDERS    126      76        32       33     12\n",
       "3         15      CARRYOVER ORDERS      0       0         0        1      0\n",
       "4         15  OPEN ORDERS > 7 DAYS      1       1         1        1      1\n",
       "0         16  OUTBOUND ORDERS 2021     19      11        20       17     16"
      ]
     },
     "execution_count": 7,
     "metadata": {},
     "output_type": "execute_result"
    }
   ],
   "source": [
    "# Change the order of the columns. Warehouse first\n",
    "df = df[['Warehouse', 'Description', 'Monday', 'Tuesday', 'Wednesday', 'Thursday', 'Friday']]\n",
    "df.head(16)"
   ]
  },
  {
   "cell_type": "code",
   "execution_count": 8,
   "id": "9ada3320",
   "metadata": {
    "execution": {
     "iopub.execute_input": "2022-08-06T11:34:55.513844Z",
     "iopub.status.busy": "2022-08-06T11:34:55.513844Z",
     "iopub.status.idle": "2022-08-06T11:34:55.527806Z",
     "shell.execute_reply": "2022-08-06T11:34:55.526806Z"
    }
   },
   "outputs": [],
   "source": [
    "# Save DF into json file\n",
    "df.to_json('data/data_card.json', orient='records')"
   ]
  },
  {
   "cell_type": "code",
   "execution_count": 9,
   "id": "e24191d1",
   "metadata": {
    "execution": {
     "iopub.execute_input": "2022-08-06T11:34:55.530840Z",
     "iopub.status.busy": "2022-08-06T11:34:55.529805Z",
     "iopub.status.idle": "2022-08-06T11:34:55.542849Z",
     "shell.execute_reply": "2022-08-06T11:34:55.541881Z"
    }
   },
   "outputs": [],
   "source": [
    "# Close connection\n",
    "cnxn.close()"
   ]
  },
  {
   "cell_type": "code",
   "execution_count": null,
   "id": "d3082fa4",
   "metadata": {},
   "outputs": [],
   "source": []
  },
  {
   "cell_type": "code",
   "execution_count": null,
   "id": "026b7f10",
   "metadata": {},
   "outputs": [],
   "source": []
  },
  {
   "cell_type": "code",
   "execution_count": null,
   "id": "c320c518",
   "metadata": {},
   "outputs": [],
   "source": []
  },
  {
   "cell_type": "code",
   "execution_count": null,
   "id": "e2fd2d98",
   "metadata": {},
   "outputs": [],
   "source": []
  },
  {
   "cell_type": "code",
   "execution_count": null,
   "id": "d5a5162b",
   "metadata": {},
   "outputs": [],
   "source": []
  },
  {
   "cell_type": "code",
   "execution_count": null,
   "id": "4a194b95",
   "metadata": {},
   "outputs": [],
   "source": []
  },
  {
   "cell_type": "code",
   "execution_count": null,
   "id": "0c1bbd7a",
   "metadata": {},
   "outputs": [],
   "source": []
  },
  {
   "cell_type": "code",
   "execution_count": null,
   "id": "659495fc",
   "metadata": {},
   "outputs": [],
   "source": []
  },
  {
   "cell_type": "code",
   "execution_count": null,
   "id": "5736f2e9",
   "metadata": {},
   "outputs": [],
   "source": []
  },
  {
   "cell_type": "code",
   "execution_count": null,
   "id": "4cf693af",
   "metadata": {},
   "outputs": [],
   "source": []
  },
  {
   "cell_type": "code",
   "execution_count": null,
   "id": "7ab1c6f3",
   "metadata": {},
   "outputs": [],
   "source": []
  },
  {
   "cell_type": "code",
   "execution_count": null,
   "id": "2f1e54a4",
   "metadata": {},
   "outputs": [],
   "source": []
  },
  {
   "cell_type": "code",
   "execution_count": null,
   "id": "692cea7b",
   "metadata": {},
   "outputs": [],
   "source": []
  },
  {
   "cell_type": "code",
   "execution_count": null,
   "id": "24836b5c",
   "metadata": {},
   "outputs": [],
   "source": []
  },
  {
   "cell_type": "code",
   "execution_count": null,
   "id": "7592b124",
   "metadata": {},
   "outputs": [],
   "source": []
  },
  {
   "cell_type": "code",
   "execution_count": null,
   "id": "ec14d155",
   "metadata": {},
   "outputs": [],
   "source": []
  },
  {
   "cell_type": "code",
   "execution_count": null,
   "id": "3c68dc03",
   "metadata": {},
   "outputs": [],
   "source": []
  },
  {
   "cell_type": "code",
   "execution_count": 10,
   "id": "40a87e6c",
   "metadata": {
    "execution": {
     "iopub.execute_input": "2022-08-06T11:34:55.545851Z",
     "iopub.status.busy": "2022-08-06T11:34:55.545851Z",
     "iopub.status.idle": "2022-08-06T11:34:55.558507Z",
     "shell.execute_reply": "2022-08-06T11:34:55.557999Z"
    }
   },
   "outputs": [],
   "source": [
    "# Save Waves DF into json file\n",
    "#df2.to_json('data/card.json')\n",
    "\n",
    "# Save Waves DF into json file\n",
    "#df2.to_json('data/card_records.json', orient='records')\n",
    "\n",
    "# Save Waves DF into json file\n",
    "#df2.to_json('data/card_split.json', orient='split')\n",
    "\n",
    "# Save Waves DF into json file\n",
    "#df2.to_json('data/card_index.json', orient='index')\n",
    "\n",
    "# Save Waves DF into json file\n",
    "#df2.to_json('data/card_columns.json', orient='columns')\n",
    "\n",
    "# Save Waves DF into json file\n",
    "#df2.to_json('data/card_values.json', orient='values')\n",
    "\n",
    "# Save Waves DF into json file\n",
    "#df2.to_json('data/card_table.json', orient='table')"
   ]
  },
  {
   "cell_type": "code",
   "execution_count": null,
   "id": "23075794",
   "metadata": {},
   "outputs": [],
   "source": []
  },
  {
   "cell_type": "code",
   "execution_count": null,
   "id": "1405dc3b",
   "metadata": {},
   "outputs": [],
   "source": []
  },
  {
   "cell_type": "code",
   "execution_count": null,
   "id": "8134cb4e",
   "metadata": {},
   "outputs": [],
   "source": []
  },
  {
   "cell_type": "code",
   "execution_count": null,
   "id": "eaf7fde3",
   "metadata": {},
   "outputs": [],
   "source": []
  },
  {
   "cell_type": "code",
   "execution_count": null,
   "id": "9c03e564",
   "metadata": {},
   "outputs": [],
   "source": []
  },
  {
   "cell_type": "code",
   "execution_count": null,
   "id": "d7bed1ea",
   "metadata": {},
   "outputs": [],
   "source": []
  },
  {
   "cell_type": "code",
   "execution_count": null,
   "id": "358b1970",
   "metadata": {},
   "outputs": [],
   "source": []
  },
  {
   "cell_type": "code",
   "execution_count": null,
   "id": "6373047f",
   "metadata": {},
   "outputs": [],
   "source": []
  },
  {
   "cell_type": "code",
   "execution_count": null,
   "id": "c65d7d17",
   "metadata": {},
   "outputs": [],
   "source": []
  },
  {
   "cell_type": "code",
   "execution_count": null,
   "id": "9e0f8c54",
   "metadata": {},
   "outputs": [],
   "source": []
  },
  {
   "cell_type": "code",
   "execution_count": null,
   "id": "ed1eec71",
   "metadata": {},
   "outputs": [],
   "source": []
  },
  {
   "cell_type": "code",
   "execution_count": null,
   "id": "2176a82f",
   "metadata": {},
   "outputs": [],
   "source": []
  },
  {
   "cell_type": "code",
   "execution_count": null,
   "id": "199f938d",
   "metadata": {},
   "outputs": [],
   "source": []
  },
  {
   "cell_type": "code",
   "execution_count": null,
   "id": "30f09d04",
   "metadata": {},
   "outputs": [],
   "source": []
  }
 ],
 "metadata": {
  "kernelspec": {
   "display_name": "PythonData",
   "language": "python",
   "name": "pythondata"
  },
  "language_info": {
   "codemirror_mode": {
    "name": "ipython",
    "version": 3
   },
   "file_extension": ".py",
   "mimetype": "text/x-python",
   "name": "python",
   "nbconvert_exporter": "python",
   "pygments_lexer": "ipython3",
   "version": "3.7.11"
  }
 },
 "nbformat": 4,
 "nbformat_minor": 5
}
