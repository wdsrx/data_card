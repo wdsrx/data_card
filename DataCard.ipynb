{
 "cells": [
  {
   "cell_type": "markdown",
   "id": "ca7e8c24",
   "metadata": {},
   "source": [
    "# DATA CARD"
   ]
  },
  {
   "cell_type": "code",
   "execution_count": 1,
   "id": "ade09779",
   "metadata": {
    "execution": {
     "iopub.execute_input": "2022-09-25T11:45:38.600970Z",
     "iopub.status.busy": "2022-09-25T11:45:38.600970Z",
     "iopub.status.idle": "2022-09-25T11:45:39.243626Z",
     "shell.execute_reply": "2022-09-25T11:45:39.243626Z"
    }
   },
   "outputs": [],
   "source": [
    "import pyodbc\n",
    "import pandas as pd"
   ]
  },
  {
   "cell_type": "code",
   "execution_count": 2,
   "id": "10a73873",
   "metadata": {
    "execution": {
     "iopub.execute_input": "2022-09-25T11:45:39.246623Z",
     "iopub.status.busy": "2022-09-25T11:45:39.246623Z",
     "iopub.status.idle": "2022-09-25T11:45:39.306951Z",
     "shell.execute_reply": "2022-09-25T11:45:39.305457Z"
    }
   },
   "outputs": [],
   "source": [
    "cnxn = pyodbc.connect(\"Driver={SQL Server Native Client 11.0};\"\n",
    "                        \"Server=wd02;\"\n",
    "                        \"Database=FootPrint;\"\n",
    "                        \"UID=WOODFIELD\\\\jmeza@wdsrx.com;\"\n",
    "                        \"PWD=Clavezaza2022;\"\n",
    "                        \"Trusted_Connection=yes;\")"
   ]
  },
  {
   "cell_type": "markdown",
   "id": "d807b563",
   "metadata": {},
   "source": [
    "## Query - Week"
   ]
  },
  {
   "cell_type": "code",
   "execution_count": 3,
   "id": "2ed41c65",
   "metadata": {
    "execution": {
     "iopub.execute_input": "2022-09-25T11:45:39.317005Z",
     "iopub.status.busy": "2022-09-25T11:45:39.315962Z",
     "iopub.status.idle": "2022-09-25T11:45:39.960644Z",
     "shell.execute_reply": "2022-09-25T11:45:39.957565Z"
    }
   },
   "outputs": [],
   "source": [
    "w10 = pd.read_sql_query(\"DECLARE @week INT, @year INT SET datefirst 1\\\n",
    "    SET @week=datepart(week, GetDate()) SET @year=datepart(year, GetDate())\\\n",
    "    \\\n",
    "    select description Description, d1 Monday, d2 Tuesday, d3 Wednesday, d4 Thursday, d5 Friday\\\n",
    "    from KPower_BI.RHL_DataCard_Report(@year,@week,1)\\\n",
    "    where itemsId in (4, 5, 8, 72, 73)\\\n",
    "    order by itemsId\", cnxn)\n",
    "\n",
    "w12 = pd.read_sql_query(\"DECLARE @week INT, @year INT SET datefirst 1\\\n",
    "    SET @week=datepart(week, GetDate()) SET @year=datepart(year, GetDate())\\\n",
    "    \\\n",
    "    select description Description, d1 Monday, d2 Tuesday, d3 Wednesday, d4 Thursday, d5 Friday\\\n",
    "    from KPower_BI.RHL_DataCard_Report(@year,@week,9)\\\n",
    "    where itemsId in (4, 5, 8, 72, 73)\\\n",
    "    order by itemsId\", cnxn)\n",
    "\n",
    "w15 = pd.read_sql_query(\"DECLARE @week INT, @year INT SET datefirst 1\\\n",
    "    SET @week=datepart(week, GetDate()) SET @year=datepart(year, GetDate())\\\n",
    "    \\\n",
    "    select description Description, d1 Monday, d2 Tuesday, d3 Wednesday, d4 Thursday, d5 Friday\\\n",
    "    from KPower_BI.RHL_DataCard_Report(@year,@week,12)\\\n",
    "    where itemsId in (4, 5, 8, 72, 73)\\\n",
    "    order by itemsId\", cnxn)\n",
    "\n",
    "w16 = pd.read_sql_query(\"DECLARE @week INT, @year INT SET datefirst 1\\\n",
    "    SET @week=datepart(week, GetDate()) SET @year=datepart(year, GetDate())\\\n",
    "    \\\n",
    "    select description Description, d1 Monday, d2 Tuesday, d3 Wednesday, d4 Thursday, d5 Friday\\\n",
    "    from KPower_BI.RHL_DataCard_Report(@year,@week,14)\\\n",
    "    where itemsId in (4, 5, 8, 72, 73)\\\n",
    "    order by itemsId\", cnxn)\n",
    "\n",
    "w18 = pd.read_sql_query(\"DECLARE @week INT, @year INT SET datefirst 1\\\n",
    "    SET @week=datepart(week, GetDate()) SET @year=datepart(year, GetDate())\\\n",
    "    \\\n",
    "    select description Description, d1 Monday, d2 Tuesday, d3 Wednesday, d4 Thursday, d5 Friday\\\n",
    "    from KPower_BI.RHL_DataCard_Report(@year,@week,20)\\\n",
    "    where itemsId in (4, 5, 8, 72, 73)\\\n",
    "    order by itemsId\", cnxn)\n",
    "\n",
    "w19 = pd.read_sql_query(\"DECLARE @week INT, @year INT SET datefirst 1\\\n",
    "    SET @week=datepart(week, GetDate()) SET @year=datepart(year, GetDate())\\\n",
    "    \\\n",
    "    select description Description, d1 Monday, d2 Tuesday, d3 Wednesday, d4 Thursday, d5 Friday\\\n",
    "    from KPower_BI.RHL_DataCard_Report(@year,@week,16)\\\n",
    "    where itemsId in (4, 5, 8, 72, 73)\\\n",
    "    order by itemsId\", cnxn)\n",
    "\n",
    "w20 = pd.read_sql_query(\"DECLARE @week INT, @year INT SET datefirst 1\\\n",
    "    SET @week=datepart(week, GetDate()) SET @year=datepart(year, GetDate())\\\n",
    "    \\\n",
    "    select description Description, d1 Monday, d2 Tuesday, d3 Wednesday, d4 Thursday, d5 Friday\\\n",
    "    from KPower_BI.RHL_DataCard_Report(@year,@week,23)\\\n",
    "    where itemsId in (4, 5, 8, 72, 73)\\\n",
    "    order by itemsId\", cnxn)\n",
    "\n",
    "w21 = pd.read_sql_query(\"DECLARE @week INT, @year INT SET datefirst 1\\\n",
    "    SET @week=datepart(week, GetDate()) SET @year=datepart(year, GetDate())\\\n",
    "    \\\n",
    "    select description Description, d1 Monday, d2 Tuesday, d3 Wednesday, d4 Thursday, d5 Friday\\\n",
    "    from KPower_BI.RHL_DataCard_Report(@year,@week,25)\\\n",
    "    where itemsId in (4, 5, 8, 72, 73)\\\n",
    "    order by itemsId\", cnxn)\n",
    "\n",
    "w22 = pd.read_sql_query(\"DECLARE @week INT, @year INT SET datefirst 1\\\n",
    "    SET @week=datepart(week, GetDate()) SET @year=datepart(year, GetDate())\\\n",
    "    \\\n",
    "    select description Description, d1 Monday, d2 Tuesday, d3 Wednesday, d4 Thursday, d5 Friday\\\n",
    "    from KPower_BI.RHL_DataCard_Report(@year,@week,26)\\\n",
    "    where itemsId in (4, 5, 8, 72, 73)\\\n",
    "    order by itemsId\", cnxn)"
   ]
  },
  {
   "cell_type": "code",
   "execution_count": 4,
   "id": "93506af4",
   "metadata": {
    "execution": {
     "iopub.execute_input": "2022-09-25T11:45:39.970626Z",
     "iopub.status.busy": "2022-09-25T11:45:39.969627Z",
     "iopub.status.idle": "2022-09-25T11:45:40.007219Z",
     "shell.execute_reply": "2022-09-25T11:45:40.004443Z"
    }
   },
   "outputs": [],
   "source": [
    "# Add warehouse number column\n",
    "w10['Warehouse'] = 10\n",
    "w12['Warehouse'] = 12\n",
    "w15['Warehouse'] = 15\n",
    "w16['Warehouse'] = 16\n",
    "w18['Warehouse'] = 18\n",
    "w19['Warehouse'] = 19\n",
    "w20['Warehouse'] = 20\n",
    "w21['Warehouse'] = 21\n",
    "w22['Warehouse'] = 22"
   ]
  },
  {
   "cell_type": "code",
   "execution_count": 5,
   "id": "7538a84a",
   "metadata": {
    "execution": {
     "iopub.execute_input": "2022-09-25T11:45:40.017211Z",
     "iopub.status.busy": "2022-09-25T11:45:40.017211Z",
     "iopub.status.idle": "2022-09-25T11:45:40.054425Z",
     "shell.execute_reply": "2022-09-25T11:45:40.051899Z"
    }
   },
   "outputs": [],
   "source": [
    "# Adding Year to the OUTBOUND ORDERS row\n",
    "w10.at[0, 'Description'] = 'OUTBOUND ORDERS 2021'\n",
    "w10.at[1, 'Description'] = 'OUTBOUND ORDERS 2022'\n",
    "\n",
    "w12.at[0, 'Description'] = 'OUTBOUND ORDERS 2021'\n",
    "w12.at[1, 'Description'] = 'OUTBOUND ORDERS 2022'\n",
    "\n",
    "w15.at[0, 'Description'] = 'OUTBOUND ORDERS 2021'\n",
    "w15.at[1, 'Description'] = 'OUTBOUND ORDERS 2022'\n",
    "\n",
    "w16.at[0, 'Description'] = 'OUTBOUND ORDERS 2021'\n",
    "w16.at[1, 'Description'] = 'OUTBOUND ORDERS 2022'\n",
    "\n",
    "w18.at[0, 'Description'] = 'OUTBOUND ORDERS 2021'\n",
    "w18.at[1, 'Description'] = 'OUTBOUND ORDERS 2022'\n",
    "\n",
    "w19.at[0, 'Description'] = 'OUTBOUND ORDERS 2021'\n",
    "w19.at[1, 'Description'] = 'OUTBOUND ORDERS 2022'\n",
    "\n",
    "w20.at[0, 'Description'] = 'OUTBOUND ORDERS 2021'\n",
    "w20.at[1, 'Description'] = 'OUTBOUND ORDERS 2022'\n",
    "\n",
    "w21.at[0, 'Description'] = 'OUTBOUND ORDERS 2021'\n",
    "w21.at[1, 'Description'] = 'OUTBOUND ORDERS 2022'\n",
    "\n",
    "w22.at[0, 'Description'] = 'OUTBOUND ORDERS 2021'\n",
    "w22.at[1, 'Description'] = 'OUTBOUND ORDERS 2022'"
   ]
  },
  {
   "cell_type": "code",
   "execution_count": 6,
   "id": "bb33ca30",
   "metadata": {
    "execution": {
     "iopub.execute_input": "2022-09-25T11:45:40.064428Z",
     "iopub.status.busy": "2022-09-25T11:45:40.064428Z",
     "iopub.status.idle": "2022-09-25T11:45:40.099614Z",
     "shell.execute_reply": "2022-09-25T11:45:40.097575Z"
    }
   },
   "outputs": [],
   "source": [
    "# Concatenate all warehouses\n",
    "df = pd.concat([w10, w12, w15, w16, w18, w19, w20, w21, w22])"
   ]
  },
  {
   "cell_type": "code",
   "execution_count": 7,
   "id": "68feda79",
   "metadata": {
    "execution": {
     "iopub.execute_input": "2022-09-25T11:45:40.109624Z",
     "iopub.status.busy": "2022-09-25T11:45:40.108631Z",
     "iopub.status.idle": "2022-09-25T11:45:40.225744Z",
     "shell.execute_reply": "2022-09-25T11:45:40.222638Z"
    }
   },
   "outputs": [
    {
     "data": {
      "text/html": [
       "<div>\n",
       "<style scoped>\n",
       "    .dataframe tbody tr th:only-of-type {\n",
       "        vertical-align: middle;\n",
       "    }\n",
       "\n",
       "    .dataframe tbody tr th {\n",
       "        vertical-align: top;\n",
       "    }\n",
       "\n",
       "    .dataframe thead th {\n",
       "        text-align: right;\n",
       "    }\n",
       "</style>\n",
       "<table border=\"1\" class=\"dataframe\">\n",
       "  <thead>\n",
       "    <tr style=\"text-align: right;\">\n",
       "      <th></th>\n",
       "      <th>Warehouse</th>\n",
       "      <th>Description</th>\n",
       "      <th>Monday</th>\n",
       "      <th>Tuesday</th>\n",
       "      <th>Wednesday</th>\n",
       "      <th>Thursday</th>\n",
       "      <th>Friday</th>\n",
       "    </tr>\n",
       "  </thead>\n",
       "  <tbody>\n",
       "    <tr>\n",
       "      <th>0</th>\n",
       "      <td>10</td>\n",
       "      <td>OUTBOUND ORDERS 2021</td>\n",
       "      <td>519</td>\n",
       "      <td>711</td>\n",
       "      <td>716</td>\n",
       "      <td>674</td>\n",
       "      <td>551</td>\n",
       "    </tr>\n",
       "    <tr>\n",
       "      <th>1</th>\n",
       "      <td>10</td>\n",
       "      <td>OUTBOUND ORDERS 2022</td>\n",
       "      <td>450</td>\n",
       "      <td>381</td>\n",
       "      <td>310</td>\n",
       "      <td>224</td>\n",
       "      <td>275</td>\n",
       "    </tr>\n",
       "    <tr>\n",
       "      <th>2</th>\n",
       "      <td>10</td>\n",
       "      <td>NEW ORDERS</td>\n",
       "      <td>349</td>\n",
       "      <td>346</td>\n",
       "      <td>351</td>\n",
       "      <td>243</td>\n",
       "      <td>270</td>\n",
       "    </tr>\n",
       "    <tr>\n",
       "      <th>3</th>\n",
       "      <td>10</td>\n",
       "      <td>CARRYOVER ORDERS</td>\n",
       "      <td>8</td>\n",
       "      <td>31</td>\n",
       "      <td>57</td>\n",
       "      <td>52</td>\n",
       "      <td>52</td>\n",
       "    </tr>\n",
       "    <tr>\n",
       "      <th>4</th>\n",
       "      <td>10</td>\n",
       "      <td>OPEN ORDERS &gt; 7 DAYS</td>\n",
       "      <td>1</td>\n",
       "      <td>1</td>\n",
       "      <td>2</td>\n",
       "      <td>3</td>\n",
       "      <td>6</td>\n",
       "    </tr>\n",
       "    <tr>\n",
       "      <th>0</th>\n",
       "      <td>12</td>\n",
       "      <td>OUTBOUND ORDERS 2021</td>\n",
       "      <td>70</td>\n",
       "      <td>59</td>\n",
       "      <td>15</td>\n",
       "      <td>38</td>\n",
       "      <td>74</td>\n",
       "    </tr>\n",
       "    <tr>\n",
       "      <th>1</th>\n",
       "      <td>12</td>\n",
       "      <td>OUTBOUND ORDERS 2022</td>\n",
       "      <td>51</td>\n",
       "      <td>19</td>\n",
       "      <td>21</td>\n",
       "      <td>22</td>\n",
       "      <td>20</td>\n",
       "    </tr>\n",
       "    <tr>\n",
       "      <th>2</th>\n",
       "      <td>12</td>\n",
       "      <td>NEW ORDERS</td>\n",
       "      <td>17</td>\n",
       "      <td>29</td>\n",
       "      <td>23</td>\n",
       "      <td>16</td>\n",
       "      <td>23</td>\n",
       "    </tr>\n",
       "    <tr>\n",
       "      <th>3</th>\n",
       "      <td>12</td>\n",
       "      <td>CARRYOVER ORDERS</td>\n",
       "      <td>1</td>\n",
       "      <td>3</td>\n",
       "      <td>1</td>\n",
       "      <td>3</td>\n",
       "      <td>1</td>\n",
       "    </tr>\n",
       "    <tr>\n",
       "      <th>4</th>\n",
       "      <td>12</td>\n",
       "      <td>OPEN ORDERS &gt; 7 DAYS</td>\n",
       "      <td>3</td>\n",
       "      <td>2</td>\n",
       "      <td>2</td>\n",
       "      <td>2</td>\n",
       "      <td>1</td>\n",
       "    </tr>\n",
       "    <tr>\n",
       "      <th>0</th>\n",
       "      <td>15</td>\n",
       "      <td>OUTBOUND ORDERS 2021</td>\n",
       "      <td>155</td>\n",
       "      <td>277</td>\n",
       "      <td>291</td>\n",
       "      <td>170</td>\n",
       "      <td>135</td>\n",
       "    </tr>\n",
       "    <tr>\n",
       "      <th>1</th>\n",
       "      <td>15</td>\n",
       "      <td>OUTBOUND ORDERS 2022</td>\n",
       "      <td>53</td>\n",
       "      <td>113</td>\n",
       "      <td>106</td>\n",
       "      <td>44</td>\n",
       "      <td>54</td>\n",
       "    </tr>\n",
       "    <tr>\n",
       "      <th>2</th>\n",
       "      <td>15</td>\n",
       "      <td>NEW ORDERS</td>\n",
       "      <td>190</td>\n",
       "      <td>62</td>\n",
       "      <td>48</td>\n",
       "      <td>58</td>\n",
       "      <td>44</td>\n",
       "    </tr>\n",
       "    <tr>\n",
       "      <th>3</th>\n",
       "      <td>15</td>\n",
       "      <td>CARRYOVER ORDERS</td>\n",
       "      <td>14</td>\n",
       "      <td>11</td>\n",
       "      <td>0</td>\n",
       "      <td>0</td>\n",
       "      <td>1</td>\n",
       "    </tr>\n",
       "    <tr>\n",
       "      <th>4</th>\n",
       "      <td>15</td>\n",
       "      <td>OPEN ORDERS &gt; 7 DAYS</td>\n",
       "      <td>3</td>\n",
       "      <td>3</td>\n",
       "      <td>3</td>\n",
       "      <td>1</td>\n",
       "      <td>1</td>\n",
       "    </tr>\n",
       "    <tr>\n",
       "      <th>0</th>\n",
       "      <td>16</td>\n",
       "      <td>OUTBOUND ORDERS 2021</td>\n",
       "      <td>15</td>\n",
       "      <td>16</td>\n",
       "      <td>14</td>\n",
       "      <td>5</td>\n",
       "      <td>19</td>\n",
       "    </tr>\n",
       "  </tbody>\n",
       "</table>\n",
       "</div>"
      ],
      "text/plain": [
       "   Warehouse           Description Monday Tuesday Wednesday Thursday Friday\n",
       "0         10  OUTBOUND ORDERS 2021    519     711       716      674    551\n",
       "1         10  OUTBOUND ORDERS 2022    450     381       310      224    275\n",
       "2         10            NEW ORDERS    349     346       351      243    270\n",
       "3         10      CARRYOVER ORDERS      8      31        57       52     52\n",
       "4         10  OPEN ORDERS > 7 DAYS      1       1         2        3      6\n",
       "0         12  OUTBOUND ORDERS 2021     70      59        15       38     74\n",
       "1         12  OUTBOUND ORDERS 2022     51      19        21       22     20\n",
       "2         12            NEW ORDERS     17      29        23       16     23\n",
       "3         12      CARRYOVER ORDERS      1       3         1        3      1\n",
       "4         12  OPEN ORDERS > 7 DAYS      3       2         2        2      1\n",
       "0         15  OUTBOUND ORDERS 2021    155     277       291      170    135\n",
       "1         15  OUTBOUND ORDERS 2022     53     113       106       44     54\n",
       "2         15            NEW ORDERS    190      62        48       58     44\n",
       "3         15      CARRYOVER ORDERS     14      11         0        0      1\n",
       "4         15  OPEN ORDERS > 7 DAYS      3       3         3        1      1\n",
       "0         16  OUTBOUND ORDERS 2021     15      16        14        5     19"
      ]
     },
     "execution_count": 7,
     "metadata": {},
     "output_type": "execute_result"
    }
   ],
   "source": [
    "# Change the order of the columns. Warehouse first\n",
    "df = df[['Warehouse', 'Description', 'Monday', 'Tuesday', 'Wednesday', 'Thursday', 'Friday']]\n",
    "df.head(16)"
   ]
  },
  {
   "cell_type": "code",
   "execution_count": 8,
   "id": "9ada3320",
   "metadata": {
    "execution": {
     "iopub.execute_input": "2022-09-25T11:45:40.235749Z",
     "iopub.status.busy": "2022-09-25T11:45:40.234750Z",
     "iopub.status.idle": "2022-09-25T11:45:40.258642Z",
     "shell.execute_reply": "2022-09-25T11:45:40.255057Z"
    }
   },
   "outputs": [],
   "source": [
    "# Save DF into json file\n",
    "df.to_json('data/data_card.json', orient='records')"
   ]
  },
  {
   "cell_type": "code",
   "execution_count": 9,
   "id": "e24191d1",
   "metadata": {
    "execution": {
     "iopub.execute_input": "2022-09-25T11:45:40.268671Z",
     "iopub.status.busy": "2022-09-25T11:45:40.267672Z",
     "iopub.status.idle": "2022-09-25T11:45:40.320851Z",
     "shell.execute_reply": "2022-09-25T11:45:40.317937Z"
    }
   },
   "outputs": [],
   "source": [
    "# Close connection\n",
    "cnxn.close()"
   ]
  },
  {
   "cell_type": "code",
   "execution_count": null,
   "id": "d3082fa4",
   "metadata": {},
   "outputs": [],
   "source": []
  },
  {
   "cell_type": "code",
   "execution_count": null,
   "id": "026b7f10",
   "metadata": {},
   "outputs": [],
   "source": []
  },
  {
   "cell_type": "code",
   "execution_count": null,
   "id": "c320c518",
   "metadata": {},
   "outputs": [],
   "source": []
  },
  {
   "cell_type": "code",
   "execution_count": null,
   "id": "e2fd2d98",
   "metadata": {},
   "outputs": [],
   "source": []
  },
  {
   "cell_type": "code",
   "execution_count": null,
   "id": "d5a5162b",
   "metadata": {},
   "outputs": [],
   "source": []
  },
  {
   "cell_type": "code",
   "execution_count": null,
   "id": "4a194b95",
   "metadata": {},
   "outputs": [],
   "source": []
  },
  {
   "cell_type": "code",
   "execution_count": null,
   "id": "0c1bbd7a",
   "metadata": {},
   "outputs": [],
   "source": []
  },
  {
   "cell_type": "code",
   "execution_count": null,
   "id": "659495fc",
   "metadata": {},
   "outputs": [],
   "source": []
  },
  {
   "cell_type": "code",
   "execution_count": null,
   "id": "5736f2e9",
   "metadata": {},
   "outputs": [],
   "source": []
  },
  {
   "cell_type": "code",
   "execution_count": null,
   "id": "4cf693af",
   "metadata": {},
   "outputs": [],
   "source": []
  },
  {
   "cell_type": "code",
   "execution_count": null,
   "id": "7ab1c6f3",
   "metadata": {},
   "outputs": [],
   "source": []
  },
  {
   "cell_type": "code",
   "execution_count": null,
   "id": "2f1e54a4",
   "metadata": {},
   "outputs": [],
   "source": []
  },
  {
   "cell_type": "code",
   "execution_count": null,
   "id": "692cea7b",
   "metadata": {},
   "outputs": [],
   "source": []
  },
  {
   "cell_type": "code",
   "execution_count": null,
   "id": "24836b5c",
   "metadata": {},
   "outputs": [],
   "source": []
  },
  {
   "cell_type": "code",
   "execution_count": null,
   "id": "7592b124",
   "metadata": {},
   "outputs": [],
   "source": []
  },
  {
   "cell_type": "code",
   "execution_count": null,
   "id": "ec14d155",
   "metadata": {},
   "outputs": [],
   "source": []
  },
  {
   "cell_type": "code",
   "execution_count": null,
   "id": "3c68dc03",
   "metadata": {},
   "outputs": [],
   "source": []
  },
  {
   "cell_type": "code",
   "execution_count": 10,
   "id": "40a87e6c",
   "metadata": {
    "execution": {
     "iopub.execute_input": "2022-09-25T11:45:40.334854Z",
     "iopub.status.busy": "2022-09-25T11:45:40.332853Z",
     "iopub.status.idle": "2022-09-25T11:45:40.351759Z",
     "shell.execute_reply": "2022-09-25T11:45:40.349711Z"
    }
   },
   "outputs": [],
   "source": [
    "# Save Waves DF into json file\n",
    "#df2.to_json('data/card.json')\n",
    "\n",
    "# Save Waves DF into json file\n",
    "#df2.to_json('data/card_records.json', orient='records')\n",
    "\n",
    "# Save Waves DF into json file\n",
    "#df2.to_json('data/card_split.json', orient='split')\n",
    "\n",
    "# Save Waves DF into json file\n",
    "#df2.to_json('data/card_index.json', orient='index')\n",
    "\n",
    "# Save Waves DF into json file\n",
    "#df2.to_json('data/card_columns.json', orient='columns')\n",
    "\n",
    "# Save Waves DF into json file\n",
    "#df2.to_json('data/card_values.json', orient='values')\n",
    "\n",
    "# Save Waves DF into json file\n",
    "#df2.to_json('data/card_table.json', orient='table')"
   ]
  },
  {
   "cell_type": "code",
   "execution_count": null,
   "id": "23075794",
   "metadata": {},
   "outputs": [],
   "source": []
  },
  {
   "cell_type": "code",
   "execution_count": null,
   "id": "1405dc3b",
   "metadata": {},
   "outputs": [],
   "source": []
  },
  {
   "cell_type": "code",
   "execution_count": null,
   "id": "8134cb4e",
   "metadata": {},
   "outputs": [],
   "source": []
  },
  {
   "cell_type": "code",
   "execution_count": null,
   "id": "eaf7fde3",
   "metadata": {},
   "outputs": [],
   "source": []
  },
  {
   "cell_type": "code",
   "execution_count": null,
   "id": "9c03e564",
   "metadata": {},
   "outputs": [],
   "source": []
  },
  {
   "cell_type": "code",
   "execution_count": null,
   "id": "d7bed1ea",
   "metadata": {},
   "outputs": [],
   "source": []
  },
  {
   "cell_type": "code",
   "execution_count": null,
   "id": "358b1970",
   "metadata": {},
   "outputs": [],
   "source": []
  },
  {
   "cell_type": "code",
   "execution_count": null,
   "id": "6373047f",
   "metadata": {},
   "outputs": [],
   "source": []
  },
  {
   "cell_type": "code",
   "execution_count": null,
   "id": "c65d7d17",
   "metadata": {},
   "outputs": [],
   "source": []
  },
  {
   "cell_type": "code",
   "execution_count": null,
   "id": "9e0f8c54",
   "metadata": {},
   "outputs": [],
   "source": []
  },
  {
   "cell_type": "code",
   "execution_count": null,
   "id": "ed1eec71",
   "metadata": {},
   "outputs": [],
   "source": []
  },
  {
   "cell_type": "code",
   "execution_count": null,
   "id": "2176a82f",
   "metadata": {},
   "outputs": [],
   "source": []
  },
  {
   "cell_type": "code",
   "execution_count": null,
   "id": "199f938d",
   "metadata": {},
   "outputs": [],
   "source": []
  },
  {
   "cell_type": "code",
   "execution_count": null,
   "id": "30f09d04",
   "metadata": {},
   "outputs": [],
   "source": []
  }
 ],
 "metadata": {
  "kernelspec": {
   "display_name": "PythonData",
   "language": "python",
   "name": "pythondata"
  },
  "language_info": {
   "codemirror_mode": {
    "name": "ipython",
    "version": 3
   },
   "file_extension": ".py",
   "mimetype": "text/x-python",
   "name": "python",
   "nbconvert_exporter": "python",
   "pygments_lexer": "ipython3",
   "version": "3.7.11"
  }
 },
 "nbformat": 4,
 "nbformat_minor": 5
}
