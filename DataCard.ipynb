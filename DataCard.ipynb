{
 "cells": [
  {
   "cell_type": "markdown",
   "id": "ca7e8c24",
   "metadata": {},
   "source": [
    "# DATA CARD"
   ]
  },
  {
   "cell_type": "code",
   "execution_count": 1,
   "id": "ade09779",
   "metadata": {
    "execution": {
     "iopub.execute_input": "2022-07-12T21:20:08.870499Z",
     "iopub.status.busy": "2022-07-12T21:20:08.870499Z",
     "iopub.status.idle": "2022-07-12T21:20:09.349884Z",
     "shell.execute_reply": "2022-07-12T21:20:09.348827Z"
    }
   },
   "outputs": [],
   "source": [
    "import pyodbc\n",
    "import pandas as pd"
   ]
  },
  {
   "cell_type": "code",
   "execution_count": 2,
   "id": "10a73873",
   "metadata": {
    "execution": {
     "iopub.execute_input": "2022-07-12T21:20:09.352844Z",
     "iopub.status.busy": "2022-07-12T21:20:09.351844Z",
     "iopub.status.idle": "2022-07-12T21:20:09.411758Z",
     "shell.execute_reply": "2022-07-12T21:20:09.410689Z"
    }
   },
   "outputs": [],
   "source": [
    "cnxn = pyodbc.connect(\"Driver={SQL Server Native Client 11.0};\"\n",
    "                        \"Server=wd02;\"\n",
    "                        \"Database=FootPrint;\"\n",
    "                        \"Trusted_Connection=yes;\")"
   ]
  },
  {
   "cell_type": "markdown",
   "id": "d807b563",
   "metadata": {},
   "source": [
    "## Query - Week"
   ]
  },
  {
   "cell_type": "code",
   "execution_count": 3,
   "id": "2ed41c65",
   "metadata": {
    "execution": {
     "iopub.execute_input": "2022-07-12T21:20:09.415725Z",
     "iopub.status.busy": "2022-07-12T21:20:09.415725Z",
     "iopub.status.idle": "2022-07-12T21:20:10.909939Z",
     "shell.execute_reply": "2022-07-12T21:20:10.906922Z"
    }
   },
   "outputs": [],
   "source": [
    "w10 = pd.read_sql_query(\"DECLARE @week INT, @year INT SET datefirst 1\\\n",
    "    SET @week=datepart(week, GetDate()) SET @year=datepart(year, GetDate())\\\n",
    "    \\\n",
    "    select description Description, d1 Monday, d2 Tuesday, d3 Wednesday, d4 Thursday, d5 Friday\\\n",
    "    from KPower_BI.RHL_DataCard_Report(@year,@week,1)\\\n",
    "    where itemsId in (4, 5, 8, 72, 73)\\\n",
    "    order by itemsId\", cnxn)\n",
    "\n",
    "w12 = pd.read_sql_query(\"DECLARE @week INT, @year INT SET datefirst 1\\\n",
    "    SET @week=datepart(week, GetDate()) SET @year=datepart(year, GetDate())\\\n",
    "    \\\n",
    "    select description Description, d1 Monday, d2 Tuesday, d3 Wednesday, d4 Thursday, d5 Friday\\\n",
    "    from KPower_BI.RHL_DataCard_Report(@year,@week,9)\\\n",
    "    where itemsId in (4, 5, 8, 72, 73)\\\n",
    "    order by itemsId\", cnxn)\n",
    "\n",
    "w15 = pd.read_sql_query(\"DECLARE @week INT, @year INT SET datefirst 1\\\n",
    "    SET @week=datepart(week, GetDate()) SET @year=datepart(year, GetDate())\\\n",
    "    \\\n",
    "    select description Description, d1 Monday, d2 Tuesday, d3 Wednesday, d4 Thursday, d5 Friday\\\n",
    "    from KPower_BI.RHL_DataCard_Report(@year,@week,12)\\\n",
    "    where itemsId in (4, 5, 8, 72, 73)\\\n",
    "    order by itemsId\", cnxn)\n",
    "\n",
    "w16 = pd.read_sql_query(\"DECLARE @week INT, @year INT SET datefirst 1\\\n",
    "    SET @week=datepart(week, GetDate()) SET @year=datepart(year, GetDate())\\\n",
    "    \\\n",
    "    select description Description, d1 Monday, d2 Tuesday, d3 Wednesday, d4 Thursday, d5 Friday\\\n",
    "    from KPower_BI.RHL_DataCard_Report(@year,@week,14)\\\n",
    "    where itemsId in (4, 5, 8, 72, 73)\\\n",
    "    order by itemsId\", cnxn)\n",
    "\n",
    "w18 = pd.read_sql_query(\"DECLARE @week INT, @year INT SET datefirst 1\\\n",
    "    SET @week=datepart(week, GetDate()) SET @year=datepart(year, GetDate())\\\n",
    "    \\\n",
    "    select description Description, d1 Monday, d2 Tuesday, d3 Wednesday, d4 Thursday, d5 Friday\\\n",
    "    from KPower_BI.RHL_DataCard_Report(@year,@week,20)\\\n",
    "    where itemsId in (4, 5, 8, 72, 73)\\\n",
    "    order by itemsId\", cnxn)\n",
    "\n",
    "w19 = pd.read_sql_query(\"DECLARE @week INT, @year INT SET datefirst 1\\\n",
    "    SET @week=datepart(week, GetDate()) SET @year=datepart(year, GetDate())\\\n",
    "    \\\n",
    "    select description Description, d1 Monday, d2 Tuesday, d3 Wednesday, d4 Thursday, d5 Friday\\\n",
    "    from KPower_BI.RHL_DataCard_Report(@year,@week,16)\\\n",
    "    where itemsId in (4, 5, 8, 72, 73)\\\n",
    "    order by itemsId\", cnxn)\n",
    "\n",
    "w20 = pd.read_sql_query(\"DECLARE @week INT, @year INT SET datefirst 1\\\n",
    "    SET @week=datepart(week, GetDate()) SET @year=datepart(year, GetDate())\\\n",
    "    \\\n",
    "    select description Description, d1 Monday, d2 Tuesday, d3 Wednesday, d4 Thursday, d5 Friday\\\n",
    "    from KPower_BI.RHL_DataCard_Report(@year,@week,23)\\\n",
    "    where itemsId in (4, 5, 8, 72, 73)\\\n",
    "    order by itemsId\", cnxn)\n",
    "\n",
    "w21 = pd.read_sql_query(\"DECLARE @week INT, @year INT SET datefirst 1\\\n",
    "    SET @week=datepart(week, GetDate()) SET @year=datepart(year, GetDate())\\\n",
    "    \\\n",
    "    select description Description, d1 Monday, d2 Tuesday, d3 Wednesday, d4 Thursday, d5 Friday\\\n",
    "    from KPower_BI.RHL_DataCard_Report(@year,@week,25)\\\n",
    "    where itemsId in (4, 5, 8, 72, 73)\\\n",
    "    order by itemsId\", cnxn)\n",
    "\n",
    "w22 = pd.read_sql_query(\"DECLARE @week INT, @year INT SET datefirst 1\\\n",
    "    SET @week=datepart(week, GetDate()) SET @year=datepart(year, GetDate())\\\n",
    "    \\\n",
    "    select description Description, d1 Monday, d2 Tuesday, d3 Wednesday, d4 Thursday, d5 Friday\\\n",
    "    from KPower_BI.RHL_DataCard_Report(@year,@week,26)\\\n",
    "    where itemsId in (4, 5, 8, 72, 73)\\\n",
    "    order by itemsId\", cnxn)"
   ]
  },
  {
   "cell_type": "code",
   "execution_count": 4,
   "id": "93506af4",
   "metadata": {
    "execution": {
     "iopub.execute_input": "2022-07-12T21:20:10.919940Z",
     "iopub.status.busy": "2022-07-12T21:20:10.918941Z",
     "iopub.status.idle": "2022-07-12T21:20:10.956314Z",
     "shell.execute_reply": "2022-07-12T21:20:10.953263Z"
    }
   },
   "outputs": [],
   "source": [
    "# Add warehouse number column\n",
    "w10['Warehouse'] = 10\n",
    "w12['Warehouse'] = 12\n",
    "w15['Warehouse'] = 15\n",
    "w16['Warehouse'] = 16\n",
    "w18['Warehouse'] = 18\n",
    "w19['Warehouse'] = 19\n",
    "w20['Warehouse'] = 20\n",
    "w21['Warehouse'] = 21\n",
    "w22['Warehouse'] = 22"
   ]
  },
  {
   "cell_type": "code",
   "execution_count": 5,
   "id": "7538a84a",
   "metadata": {
    "execution": {
     "iopub.execute_input": "2022-07-12T21:20:10.967261Z",
     "iopub.status.busy": "2022-07-12T21:20:10.966264Z",
     "iopub.status.idle": "2022-07-12T21:20:11.003273Z",
     "shell.execute_reply": "2022-07-12T21:20:11.001259Z"
    }
   },
   "outputs": [],
   "source": [
    "# Adding Year to the OUTBOUND ORDERS row\n",
    "w10.at[0, 'Description'] = 'OUTBOUND ORDERS 2021'\n",
    "w10.at[1, 'Description'] = 'OUTBOUND ORDERS 2022'\n",
    "\n",
    "w12.at[0, 'Description'] = 'OUTBOUND ORDERS 2021'\n",
    "w12.at[1, 'Description'] = 'OUTBOUND ORDERS 2022'\n",
    "\n",
    "w15.at[0, 'Description'] = 'OUTBOUND ORDERS 2021'\n",
    "w15.at[1, 'Description'] = 'OUTBOUND ORDERS 2022'\n",
    "\n",
    "w16.at[0, 'Description'] = 'OUTBOUND ORDERS 2021'\n",
    "w16.at[1, 'Description'] = 'OUTBOUND ORDERS 2022'\n",
    "\n",
    "w18.at[0, 'Description'] = 'OUTBOUND ORDERS 2021'\n",
    "w18.at[1, 'Description'] = 'OUTBOUND ORDERS 2022'\n",
    "\n",
    "w19.at[0, 'Description'] = 'OUTBOUND ORDERS 2021'\n",
    "w19.at[1, 'Description'] = 'OUTBOUND ORDERS 2022'\n",
    "\n",
    "w20.at[0, 'Description'] = 'OUTBOUND ORDERS 2021'\n",
    "w20.at[1, 'Description'] = 'OUTBOUND ORDERS 2022'\n",
    "\n",
    "w21.at[0, 'Description'] = 'OUTBOUND ORDERS 2021'\n",
    "w21.at[1, 'Description'] = 'OUTBOUND ORDERS 2022'\n",
    "\n",
    "w22.at[0, 'Description'] = 'OUTBOUND ORDERS 2021'\n",
    "w22.at[1, 'Description'] = 'OUTBOUND ORDERS 2022'"
   ]
  },
  {
   "cell_type": "code",
   "execution_count": 6,
   "id": "bb33ca30",
   "metadata": {
    "execution": {
     "iopub.execute_input": "2022-07-12T21:20:11.009259Z",
     "iopub.status.busy": "2022-07-12T21:20:11.009259Z",
     "iopub.status.idle": "2022-07-12T21:20:11.034449Z",
     "shell.execute_reply": "2022-07-12T21:20:11.032875Z"
    }
   },
   "outputs": [],
   "source": [
    "# Concatenate all warehouses\n",
    "df = pd.concat([w10, w12, w15, w16, w18, w19, w20, w21, w22])"
   ]
  },
  {
   "cell_type": "code",
   "execution_count": 7,
   "id": "68feda79",
   "metadata": {
    "execution": {
     "iopub.execute_input": "2022-07-12T21:20:11.039490Z",
     "iopub.status.busy": "2022-07-12T21:20:11.039490Z",
     "iopub.status.idle": "2022-07-12T21:20:11.080498Z",
     "shell.execute_reply": "2022-07-12T21:20:11.079706Z"
    }
   },
   "outputs": [
    {
     "data": {
      "text/html": [
       "<div>\n",
       "<style scoped>\n",
       "    .dataframe tbody tr th:only-of-type {\n",
       "        vertical-align: middle;\n",
       "    }\n",
       "\n",
       "    .dataframe tbody tr th {\n",
       "        vertical-align: top;\n",
       "    }\n",
       "\n",
       "    .dataframe thead th {\n",
       "        text-align: right;\n",
       "    }\n",
       "</style>\n",
       "<table border=\"1\" class=\"dataframe\">\n",
       "  <thead>\n",
       "    <tr style=\"text-align: right;\">\n",
       "      <th></th>\n",
       "      <th>Warehouse</th>\n",
       "      <th>Description</th>\n",
       "      <th>Monday</th>\n",
       "      <th>Tuesday</th>\n",
       "      <th>Wednesday</th>\n",
       "      <th>Thursday</th>\n",
       "      <th>Friday</th>\n",
       "    </tr>\n",
       "  </thead>\n",
       "  <tbody>\n",
       "    <tr>\n",
       "      <th>0</th>\n",
       "      <td>10</td>\n",
       "      <td>OUTBOUND ORDERS 2021</td>\n",
       "      <td>1079</td>\n",
       "      <td>668</td>\n",
       "      <td>791</td>\n",
       "      <td>808</td>\n",
       "      <td>430</td>\n",
       "    </tr>\n",
       "    <tr>\n",
       "      <th>1</th>\n",
       "      <td>10</td>\n",
       "      <td>OUTBOUND ORDERS 2022</td>\n",
       "      <td>534</td>\n",
       "      <td>0</td>\n",
       "      <td>0</td>\n",
       "      <td>0</td>\n",
       "      <td>0</td>\n",
       "    </tr>\n",
       "    <tr>\n",
       "      <th>2</th>\n",
       "      <td>10</td>\n",
       "      <td>NEW ORDERS</td>\n",
       "      <td>541</td>\n",
       "      <td>0</td>\n",
       "      <td>0</td>\n",
       "      <td>0</td>\n",
       "      <td>0</td>\n",
       "    </tr>\n",
       "    <tr>\n",
       "      <th>3</th>\n",
       "      <td>10</td>\n",
       "      <td>CARRYOVER ORDERS</td>\n",
       "      <td>653</td>\n",
       "      <td>0</td>\n",
       "      <td>0</td>\n",
       "      <td>0</td>\n",
       "      <td>0</td>\n",
       "    </tr>\n",
       "    <tr>\n",
       "      <th>4</th>\n",
       "      <td>10</td>\n",
       "      <td>OPEN ORDERS &gt; 7 DAYS</td>\n",
       "      <td>5</td>\n",
       "      <td>0</td>\n",
       "      <td>0</td>\n",
       "      <td>0</td>\n",
       "      <td>0</td>\n",
       "    </tr>\n",
       "    <tr>\n",
       "      <th>0</th>\n",
       "      <td>12</td>\n",
       "      <td>OUTBOUND ORDERS 2021</td>\n",
       "      <td>46</td>\n",
       "      <td>43</td>\n",
       "      <td>18</td>\n",
       "      <td>46</td>\n",
       "      <td>20</td>\n",
       "    </tr>\n",
       "    <tr>\n",
       "      <th>1</th>\n",
       "      <td>12</td>\n",
       "      <td>OUTBOUND ORDERS 2022</td>\n",
       "      <td>53</td>\n",
       "      <td>0</td>\n",
       "      <td>0</td>\n",
       "      <td>0</td>\n",
       "      <td>0</td>\n",
       "    </tr>\n",
       "    <tr>\n",
       "      <th>2</th>\n",
       "      <td>12</td>\n",
       "      <td>NEW ORDERS</td>\n",
       "      <td>20</td>\n",
       "      <td>0</td>\n",
       "      <td>0</td>\n",
       "      <td>0</td>\n",
       "      <td>0</td>\n",
       "    </tr>\n",
       "    <tr>\n",
       "      <th>3</th>\n",
       "      <td>12</td>\n",
       "      <td>CARRYOVER ORDERS</td>\n",
       "      <td>0</td>\n",
       "      <td>0</td>\n",
       "      <td>0</td>\n",
       "      <td>0</td>\n",
       "      <td>0</td>\n",
       "    </tr>\n",
       "    <tr>\n",
       "      <th>4</th>\n",
       "      <td>12</td>\n",
       "      <td>OPEN ORDERS &gt; 7 DAYS</td>\n",
       "      <td>3</td>\n",
       "      <td>0</td>\n",
       "      <td>0</td>\n",
       "      <td>0</td>\n",
       "      <td>0</td>\n",
       "    </tr>\n",
       "    <tr>\n",
       "      <th>0</th>\n",
       "      <td>15</td>\n",
       "      <td>OUTBOUND ORDERS 2021</td>\n",
       "      <td>95</td>\n",
       "      <td>257</td>\n",
       "      <td>244</td>\n",
       "      <td>181</td>\n",
       "      <td>139</td>\n",
       "    </tr>\n",
       "    <tr>\n",
       "      <th>1</th>\n",
       "      <td>15</td>\n",
       "      <td>OUTBOUND ORDERS 2022</td>\n",
       "      <td>98</td>\n",
       "      <td>0</td>\n",
       "      <td>0</td>\n",
       "      <td>0</td>\n",
       "      <td>0</td>\n",
       "    </tr>\n",
       "    <tr>\n",
       "      <th>2</th>\n",
       "      <td>15</td>\n",
       "      <td>NEW ORDERS</td>\n",
       "      <td>122</td>\n",
       "      <td>0</td>\n",
       "      <td>0</td>\n",
       "      <td>0</td>\n",
       "      <td>0</td>\n",
       "    </tr>\n",
       "    <tr>\n",
       "      <th>3</th>\n",
       "      <td>15</td>\n",
       "      <td>CARRYOVER ORDERS</td>\n",
       "      <td>0</td>\n",
       "      <td>0</td>\n",
       "      <td>0</td>\n",
       "      <td>0</td>\n",
       "      <td>0</td>\n",
       "    </tr>\n",
       "    <tr>\n",
       "      <th>4</th>\n",
       "      <td>15</td>\n",
       "      <td>OPEN ORDERS &gt; 7 DAYS</td>\n",
       "      <td>1</td>\n",
       "      <td>0</td>\n",
       "      <td>0</td>\n",
       "      <td>0</td>\n",
       "      <td>0</td>\n",
       "    </tr>\n",
       "    <tr>\n",
       "      <th>0</th>\n",
       "      <td>16</td>\n",
       "      <td>OUTBOUND ORDERS 2021</td>\n",
       "      <td>4</td>\n",
       "      <td>6</td>\n",
       "      <td>6</td>\n",
       "      <td>14</td>\n",
       "      <td>5</td>\n",
       "    </tr>\n",
       "  </tbody>\n",
       "</table>\n",
       "</div>"
      ],
      "text/plain": [
       "   Warehouse           Description Monday Tuesday Wednesday Thursday Friday\n",
       "0         10  OUTBOUND ORDERS 2021   1079     668       791      808    430\n",
       "1         10  OUTBOUND ORDERS 2022    534       0         0        0      0\n",
       "2         10            NEW ORDERS    541       0         0        0      0\n",
       "3         10      CARRYOVER ORDERS    653       0         0        0      0\n",
       "4         10  OPEN ORDERS > 7 DAYS      5       0         0        0      0\n",
       "0         12  OUTBOUND ORDERS 2021     46      43        18       46     20\n",
       "1         12  OUTBOUND ORDERS 2022     53       0         0        0      0\n",
       "2         12            NEW ORDERS     20       0         0        0      0\n",
       "3         12      CARRYOVER ORDERS      0       0         0        0      0\n",
       "4         12  OPEN ORDERS > 7 DAYS      3       0         0        0      0\n",
       "0         15  OUTBOUND ORDERS 2021     95     257       244      181    139\n",
       "1         15  OUTBOUND ORDERS 2022     98       0         0        0      0\n",
       "2         15            NEW ORDERS    122       0         0        0      0\n",
       "3         15      CARRYOVER ORDERS      0       0         0        0      0\n",
       "4         15  OPEN ORDERS > 7 DAYS      1       0         0        0      0\n",
       "0         16  OUTBOUND ORDERS 2021      4       6         6       14      5"
      ]
     },
     "execution_count": 7,
     "metadata": {},
     "output_type": "execute_result"
    }
   ],
   "source": [
    "# Change the order of the columns. Warehouse first\n",
    "df = df[['Warehouse', 'Description', 'Monday', 'Tuesday', 'Wednesday', 'Thursday', 'Friday']]\n",
    "df.head(16)"
   ]
  },
  {
   "cell_type": "code",
   "execution_count": 8,
   "id": "9ada3320",
   "metadata": {
    "execution": {
     "iopub.execute_input": "2022-07-12T21:20:11.086490Z",
     "iopub.status.busy": "2022-07-12T21:20:11.085454Z",
     "iopub.status.idle": "2022-07-12T21:20:11.096491Z",
     "shell.execute_reply": "2022-07-12T21:20:11.095462Z"
    }
   },
   "outputs": [],
   "source": [
    "# Save DF into json file\n",
    "df.to_json('data/data_card.json', orient='records')"
   ]
  },
  {
   "cell_type": "code",
   "execution_count": 9,
   "id": "e24191d1",
   "metadata": {
    "execution": {
     "iopub.execute_input": "2022-07-12T21:20:11.101452Z",
     "iopub.status.busy": "2022-07-12T21:20:11.101452Z",
     "iopub.status.idle": "2022-07-12T21:20:11.127493Z",
     "shell.execute_reply": "2022-07-12T21:20:11.126501Z"
    }
   },
   "outputs": [],
   "source": [
    "# Close connection\n",
    "cnxn.close()"
   ]
  },
  {
   "cell_type": "code",
   "execution_count": null,
   "id": "d3082fa4",
   "metadata": {},
   "outputs": [],
   "source": []
  },
  {
   "cell_type": "code",
   "execution_count": null,
   "id": "026b7f10",
   "metadata": {},
   "outputs": [],
   "source": []
  },
  {
   "cell_type": "code",
   "execution_count": null,
   "id": "c320c518",
   "metadata": {},
   "outputs": [],
   "source": []
  },
  {
   "cell_type": "code",
   "execution_count": null,
   "id": "e2fd2d98",
   "metadata": {},
   "outputs": [],
   "source": []
  },
  {
   "cell_type": "code",
   "execution_count": null,
   "id": "d5a5162b",
   "metadata": {},
   "outputs": [],
   "source": []
  },
  {
   "cell_type": "code",
   "execution_count": null,
   "id": "4a194b95",
   "metadata": {},
   "outputs": [],
   "source": []
  },
  {
   "cell_type": "code",
   "execution_count": null,
   "id": "0c1bbd7a",
   "metadata": {},
   "outputs": [],
   "source": []
  },
  {
   "cell_type": "code",
   "execution_count": null,
   "id": "659495fc",
   "metadata": {},
   "outputs": [],
   "source": []
  },
  {
   "cell_type": "code",
   "execution_count": null,
   "id": "5736f2e9",
   "metadata": {},
   "outputs": [],
   "source": []
  },
  {
   "cell_type": "code",
   "execution_count": null,
   "id": "4cf693af",
   "metadata": {},
   "outputs": [],
   "source": []
  },
  {
   "cell_type": "code",
   "execution_count": null,
   "id": "7ab1c6f3",
   "metadata": {},
   "outputs": [],
   "source": []
  },
  {
   "cell_type": "code",
   "execution_count": null,
   "id": "2f1e54a4",
   "metadata": {},
   "outputs": [],
   "source": []
  },
  {
   "cell_type": "code",
   "execution_count": null,
   "id": "692cea7b",
   "metadata": {},
   "outputs": [],
   "source": []
  },
  {
   "cell_type": "code",
   "execution_count": null,
   "id": "24836b5c",
   "metadata": {},
   "outputs": [],
   "source": []
  },
  {
   "cell_type": "code",
   "execution_count": null,
   "id": "7592b124",
   "metadata": {},
   "outputs": [],
   "source": []
  },
  {
   "cell_type": "code",
   "execution_count": null,
   "id": "ec14d155",
   "metadata": {},
   "outputs": [],
   "source": []
  },
  {
   "cell_type": "code",
   "execution_count": null,
   "id": "3c68dc03",
   "metadata": {},
   "outputs": [],
   "source": []
  },
  {
   "cell_type": "code",
   "execution_count": 10,
   "id": "40a87e6c",
   "metadata": {
    "execution": {
     "iopub.execute_input": "2022-07-12T21:20:11.135494Z",
     "iopub.status.busy": "2022-07-12T21:20:11.134491Z",
     "iopub.status.idle": "2022-07-12T21:20:11.143160Z",
     "shell.execute_reply": "2022-07-12T21:20:11.142640Z"
    }
   },
   "outputs": [],
   "source": [
    "# Save Waves DF into json file\n",
    "#df2.to_json('data/card.json')\n",
    "\n",
    "# Save Waves DF into json file\n",
    "#df2.to_json('data/card_records.json', orient='records')\n",
    "\n",
    "# Save Waves DF into json file\n",
    "#df2.to_json('data/card_split.json', orient='split')\n",
    "\n",
    "# Save Waves DF into json file\n",
    "#df2.to_json('data/card_index.json', orient='index')\n",
    "\n",
    "# Save Waves DF into json file\n",
    "#df2.to_json('data/card_columns.json', orient='columns')\n",
    "\n",
    "# Save Waves DF into json file\n",
    "#df2.to_json('data/card_values.json', orient='values')\n",
    "\n",
    "# Save Waves DF into json file\n",
    "#df2.to_json('data/card_table.json', orient='table')"
   ]
  },
  {
   "cell_type": "code",
   "execution_count": null,
   "id": "23075794",
   "metadata": {},
   "outputs": [],
   "source": []
  },
  {
   "cell_type": "code",
   "execution_count": null,
   "id": "1405dc3b",
   "metadata": {},
   "outputs": [],
   "source": []
  },
  {
   "cell_type": "code",
   "execution_count": null,
   "id": "8134cb4e",
   "metadata": {},
   "outputs": [],
   "source": []
  },
  {
   "cell_type": "code",
   "execution_count": null,
   "id": "eaf7fde3",
   "metadata": {},
   "outputs": [],
   "source": []
  },
  {
   "cell_type": "code",
   "execution_count": null,
   "id": "9c03e564",
   "metadata": {},
   "outputs": [],
   "source": []
  },
  {
   "cell_type": "code",
   "execution_count": null,
   "id": "d7bed1ea",
   "metadata": {},
   "outputs": [],
   "source": []
  },
  {
   "cell_type": "code",
   "execution_count": null,
   "id": "358b1970",
   "metadata": {},
   "outputs": [],
   "source": []
  },
  {
   "cell_type": "code",
   "execution_count": null,
   "id": "6373047f",
   "metadata": {},
   "outputs": [],
   "source": []
  },
  {
   "cell_type": "code",
   "execution_count": null,
   "id": "c65d7d17",
   "metadata": {},
   "outputs": [],
   "source": []
  },
  {
   "cell_type": "code",
   "execution_count": null,
   "id": "9e0f8c54",
   "metadata": {},
   "outputs": [],
   "source": []
  },
  {
   "cell_type": "code",
   "execution_count": null,
   "id": "ed1eec71",
   "metadata": {},
   "outputs": [],
   "source": []
  },
  {
   "cell_type": "code",
   "execution_count": null,
   "id": "2176a82f",
   "metadata": {},
   "outputs": [],
   "source": []
  },
  {
   "cell_type": "code",
   "execution_count": null,
   "id": "199f938d",
   "metadata": {},
   "outputs": [],
   "source": []
  },
  {
   "cell_type": "code",
   "execution_count": null,
   "id": "30f09d04",
   "metadata": {},
   "outputs": [],
   "source": []
  }
 ],
 "metadata": {
  "kernelspec": {
   "display_name": "PythonData",
   "language": "python",
   "name": "pythondata"
  },
  "language_info": {
   "codemirror_mode": {
    "name": "ipython",
    "version": 3
   },
   "file_extension": ".py",
   "mimetype": "text/x-python",
   "name": "python",
   "nbconvert_exporter": "python",
   "pygments_lexer": "ipython3",
   "version": "3.7.11"
  }
 },
 "nbformat": 4,
 "nbformat_minor": 5
}
