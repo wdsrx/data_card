{
 "cells": [
  {
   "cell_type": "markdown",
   "id": "ca7e8c24",
   "metadata": {},
   "source": [
    "# DATA CARD"
   ]
  },
  {
   "cell_type": "code",
   "execution_count": 1,
   "id": "ade09779",
   "metadata": {
    "execution": {
     "iopub.execute_input": "2022-12-09T12:34:39.734773Z",
     "iopub.status.busy": "2022-12-09T12:34:39.733808Z",
     "iopub.status.idle": "2022-12-09T12:34:40.368558Z",
     "shell.execute_reply": "2022-12-09T12:34:40.367562Z"
    }
   },
   "outputs": [],
   "source": [
    "import pyodbc\n",
    "import pandas as pd"
   ]
  },
  {
   "cell_type": "code",
   "execution_count": 2,
   "id": "10a73873",
   "metadata": {
    "execution": {
     "iopub.execute_input": "2022-12-09T12:34:40.370558Z",
     "iopub.status.busy": "2022-12-09T12:34:40.370558Z",
     "iopub.status.idle": "2022-12-09T12:34:40.475950Z",
     "shell.execute_reply": "2022-12-09T12:34:40.475443Z"
    }
   },
   "outputs": [],
   "source": [
    "cnxn = pyodbc.connect(\"Driver={SQL Server Native Client 11.0};\"\n",
    "                        \"Server=wd02;\"\n",
    "                        \"Database=FootPrint;\"\n",
    "                        \"UID=WOODFIELD\\\\jmeza@wdsrx.com;\"\n",
    "                        \"PWD=Clavezaza2022;\"\n",
    "                        \"Trusted_Connection=yes;\")"
   ]
  },
  {
   "cell_type": "markdown",
   "id": "d807b563",
   "metadata": {},
   "source": [
    "## Query - Week"
   ]
  },
  {
   "cell_type": "code",
   "execution_count": 3,
   "id": "2ed41c65",
   "metadata": {
    "execution": {
     "iopub.execute_input": "2022-12-09T12:34:40.478958Z",
     "iopub.status.busy": "2022-12-09T12:34:40.478958Z",
     "iopub.status.idle": "2022-12-09T12:34:41.201183Z",
     "shell.execute_reply": "2022-12-09T12:34:41.200179Z"
    }
   },
   "outputs": [],
   "source": [
    "w10 = pd.read_sql_query(\"DECLARE @week INT, @year INT SET datefirst 1\\\n",
    "    SET @week=datepart(week, GetDate()) SET @year=datepart(year, GetDate())\\\n",
    "    \\\n",
    "    select description Description, d1 Monday, d2 Tuesday, d3 Wednesday, d4 Thursday, d5 Friday\\\n",
    "    from KPower_BI.RHL_DataCard_Report(@year,@week,1)\\\n",
    "    where itemsId in (4, 5, 8, 72, 73)\\\n",
    "    order by itemsId\", cnxn)\n",
    "\n",
    "w12 = pd.read_sql_query(\"DECLARE @week INT, @year INT SET datefirst 1\\\n",
    "    SET @week=datepart(week, GetDate()) SET @year=datepart(year, GetDate())\\\n",
    "    \\\n",
    "    select description Description, d1 Monday, d2 Tuesday, d3 Wednesday, d4 Thursday, d5 Friday\\\n",
    "    from KPower_BI.RHL_DataCard_Report(@year,@week,9)\\\n",
    "    where itemsId in (4, 5, 8, 72, 73)\\\n",
    "    order by itemsId\", cnxn)\n",
    "\n",
    "w15 = pd.read_sql_query(\"DECLARE @week INT, @year INT SET datefirst 1\\\n",
    "    SET @week=datepart(week, GetDate()) SET @year=datepart(year, GetDate())\\\n",
    "    \\\n",
    "    select description Description, d1 Monday, d2 Tuesday, d3 Wednesday, d4 Thursday, d5 Friday\\\n",
    "    from KPower_BI.RHL_DataCard_Report(@year,@week,12)\\\n",
    "    where itemsId in (4, 5, 8, 72, 73)\\\n",
    "    order by itemsId\", cnxn)\n",
    "\n",
    "w16 = pd.read_sql_query(\"DECLARE @week INT, @year INT SET datefirst 1\\\n",
    "    SET @week=datepart(week, GetDate()) SET @year=datepart(year, GetDate())\\\n",
    "    \\\n",
    "    select description Description, d1 Monday, d2 Tuesday, d3 Wednesday, d4 Thursday, d5 Friday\\\n",
    "    from KPower_BI.RHL_DataCard_Report(@year,@week,14)\\\n",
    "    where itemsId in (4, 5, 8, 72, 73)\\\n",
    "    order by itemsId\", cnxn)\n",
    "\n",
    "w18 = pd.read_sql_query(\"DECLARE @week INT, @year INT SET datefirst 1\\\n",
    "    SET @week=datepart(week, GetDate()) SET @year=datepart(year, GetDate())\\\n",
    "    \\\n",
    "    select description Description, d1 Monday, d2 Tuesday, d3 Wednesday, d4 Thursday, d5 Friday\\\n",
    "    from KPower_BI.RHL_DataCard_Report(@year,@week,20)\\\n",
    "    where itemsId in (4, 5, 8, 72, 73)\\\n",
    "    order by itemsId\", cnxn)\n",
    "\n",
    "w19 = pd.read_sql_query(\"DECLARE @week INT, @year INT SET datefirst 1\\\n",
    "    SET @week=datepart(week, GetDate()) SET @year=datepart(year, GetDate())\\\n",
    "    \\\n",
    "    select description Description, d1 Monday, d2 Tuesday, d3 Wednesday, d4 Thursday, d5 Friday\\\n",
    "    from KPower_BI.RHL_DataCard_Report(@year,@week,16)\\\n",
    "    where itemsId in (4, 5, 8, 72, 73)\\\n",
    "    order by itemsId\", cnxn)\n",
    "\n",
    "w20 = pd.read_sql_query(\"DECLARE @week INT, @year INT SET datefirst 1\\\n",
    "    SET @week=datepart(week, GetDate()) SET @year=datepart(year, GetDate())\\\n",
    "    \\\n",
    "    select description Description, d1 Monday, d2 Tuesday, d3 Wednesday, d4 Thursday, d5 Friday\\\n",
    "    from KPower_BI.RHL_DataCard_Report(@year,@week,23)\\\n",
    "    where itemsId in (4, 5, 8, 72, 73)\\\n",
    "    order by itemsId\", cnxn)\n",
    "\n",
    "w21 = pd.read_sql_query(\"DECLARE @week INT, @year INT SET datefirst 1\\\n",
    "    SET @week=datepart(week, GetDate()) SET @year=datepart(year, GetDate())\\\n",
    "    \\\n",
    "    select description Description, d1 Monday, d2 Tuesday, d3 Wednesday, d4 Thursday, d5 Friday\\\n",
    "    from KPower_BI.RHL_DataCard_Report(@year,@week,25)\\\n",
    "    where itemsId in (4, 5, 8, 72, 73)\\\n",
    "    order by itemsId\", cnxn)\n",
    "\n",
    "w22 = pd.read_sql_query(\"DECLARE @week INT, @year INT SET datefirst 1\\\n",
    "    SET @week=datepart(week, GetDate()) SET @year=datepart(year, GetDate())\\\n",
    "    \\\n",
    "    select description Description, d1 Monday, d2 Tuesday, d3 Wednesday, d4 Thursday, d5 Friday\\\n",
    "    from KPower_BI.RHL_DataCard_Report(@year,@week,26)\\\n",
    "    where itemsId in (4, 5, 8, 72, 73)\\\n",
    "    order by itemsId\", cnxn)"
   ]
  },
  {
   "cell_type": "code",
   "execution_count": 4,
   "id": "93506af4",
   "metadata": {
    "execution": {
     "iopub.execute_input": "2022-12-09T12:34:41.204179Z",
     "iopub.status.busy": "2022-12-09T12:34:41.204179Z",
     "iopub.status.idle": "2022-12-09T12:34:41.216182Z",
     "shell.execute_reply": "2022-12-09T12:34:41.215180Z"
    }
   },
   "outputs": [],
   "source": [
    "# Add warehouse number column\n",
    "w10['Warehouse'] = 10\n",
    "w12['Warehouse'] = 12\n",
    "w15['Warehouse'] = 15\n",
    "w16['Warehouse'] = 16\n",
    "w18['Warehouse'] = 18\n",
    "w19['Warehouse'] = 19\n",
    "w20['Warehouse'] = 20\n",
    "w21['Warehouse'] = 21\n",
    "w22['Warehouse'] = 22"
   ]
  },
  {
   "cell_type": "code",
   "execution_count": 5,
   "id": "7538a84a",
   "metadata": {
    "execution": {
     "iopub.execute_input": "2022-12-09T12:34:41.220180Z",
     "iopub.status.busy": "2022-12-09T12:34:41.219178Z",
     "iopub.status.idle": "2022-12-09T12:34:41.230820Z",
     "shell.execute_reply": "2022-12-09T12:34:41.230313Z"
    }
   },
   "outputs": [],
   "source": [
    "# Adding Year to the OUTBOUND ORDERS row\n",
    "w10.at[0, 'Description'] = 'OUTBOUND ORDERS 2021'\n",
    "w10.at[1, 'Description'] = 'OUTBOUND ORDERS 2022'\n",
    "\n",
    "w12.at[0, 'Description'] = 'OUTBOUND ORDERS 2021'\n",
    "w12.at[1, 'Description'] = 'OUTBOUND ORDERS 2022'\n",
    "\n",
    "w15.at[0, 'Description'] = 'OUTBOUND ORDERS 2021'\n",
    "w15.at[1, 'Description'] = 'OUTBOUND ORDERS 2022'\n",
    "\n",
    "w16.at[0, 'Description'] = 'OUTBOUND ORDERS 2021'\n",
    "w16.at[1, 'Description'] = 'OUTBOUND ORDERS 2022'\n",
    "\n",
    "w18.at[0, 'Description'] = 'OUTBOUND ORDERS 2021'\n",
    "w18.at[1, 'Description'] = 'OUTBOUND ORDERS 2022'\n",
    "\n",
    "w19.at[0, 'Description'] = 'OUTBOUND ORDERS 2021'\n",
    "w19.at[1, 'Description'] = 'OUTBOUND ORDERS 2022'\n",
    "\n",
    "w20.at[0, 'Description'] = 'OUTBOUND ORDERS 2021'\n",
    "w20.at[1, 'Description'] = 'OUTBOUND ORDERS 2022'\n",
    "\n",
    "w21.at[0, 'Description'] = 'OUTBOUND ORDERS 2021'\n",
    "w21.at[1, 'Description'] = 'OUTBOUND ORDERS 2022'\n",
    "\n",
    "w22.at[0, 'Description'] = 'OUTBOUND ORDERS 2021'\n",
    "w22.at[1, 'Description'] = 'OUTBOUND ORDERS 2022'"
   ]
  },
  {
   "cell_type": "code",
   "execution_count": 6,
   "id": "bb33ca30",
   "metadata": {
    "execution": {
     "iopub.execute_input": "2022-12-09T12:34:41.233829Z",
     "iopub.status.busy": "2022-12-09T12:34:41.233829Z",
     "iopub.status.idle": "2022-12-09T12:34:41.245828Z",
     "shell.execute_reply": "2022-12-09T12:34:41.245828Z"
    }
   },
   "outputs": [],
   "source": [
    "# Concatenate all warehouses\n",
    "df = pd.concat([w10, w12, w15, w16, w18, w19, w20, w21, w22])"
   ]
  },
  {
   "cell_type": "code",
   "execution_count": 7,
   "id": "68feda79",
   "metadata": {
    "execution": {
     "iopub.execute_input": "2022-12-09T12:34:41.248828Z",
     "iopub.status.busy": "2022-12-09T12:34:41.248828Z",
     "iopub.status.idle": "2022-12-09T12:34:41.276491Z",
     "shell.execute_reply": "2022-12-09T12:34:41.275985Z"
    }
   },
   "outputs": [
    {
     "data": {
      "text/html": [
       "<div>\n",
       "<style scoped>\n",
       "    .dataframe tbody tr th:only-of-type {\n",
       "        vertical-align: middle;\n",
       "    }\n",
       "\n",
       "    .dataframe tbody tr th {\n",
       "        vertical-align: top;\n",
       "    }\n",
       "\n",
       "    .dataframe thead th {\n",
       "        text-align: right;\n",
       "    }\n",
       "</style>\n",
       "<table border=\"1\" class=\"dataframe\">\n",
       "  <thead>\n",
       "    <tr style=\"text-align: right;\">\n",
       "      <th></th>\n",
       "      <th>Warehouse</th>\n",
       "      <th>Description</th>\n",
       "      <th>Monday</th>\n",
       "      <th>Tuesday</th>\n",
       "      <th>Wednesday</th>\n",
       "      <th>Thursday</th>\n",
       "      <th>Friday</th>\n",
       "    </tr>\n",
       "  </thead>\n",
       "  <tbody>\n",
       "    <tr>\n",
       "      <th>0</th>\n",
       "      <td>10</td>\n",
       "      <td>OUTBOUND ORDERS 2021</td>\n",
       "      <td>571</td>\n",
       "      <td>560</td>\n",
       "      <td>506</td>\n",
       "      <td>928</td>\n",
       "      <td>575</td>\n",
       "    </tr>\n",
       "    <tr>\n",
       "      <th>1</th>\n",
       "      <td>10</td>\n",
       "      <td>OUTBOUND ORDERS 2022</td>\n",
       "      <td>623</td>\n",
       "      <td>455</td>\n",
       "      <td>243</td>\n",
       "      <td>387</td>\n",
       "      <td>0</td>\n",
       "    </tr>\n",
       "    <tr>\n",
       "      <th>2</th>\n",
       "      <td>10</td>\n",
       "      <td>NEW ORDERS</td>\n",
       "      <td>294</td>\n",
       "      <td>397</td>\n",
       "      <td>320</td>\n",
       "      <td>300</td>\n",
       "      <td>0</td>\n",
       "    </tr>\n",
       "    <tr>\n",
       "      <th>3</th>\n",
       "      <td>10</td>\n",
       "      <td>CARRYOVER ORDERS</td>\n",
       "      <td>142</td>\n",
       "      <td>107</td>\n",
       "      <td>154</td>\n",
       "      <td>164</td>\n",
       "      <td>0</td>\n",
       "    </tr>\n",
       "    <tr>\n",
       "      <th>4</th>\n",
       "      <td>10</td>\n",
       "      <td>OPEN ORDERS &gt; 7 DAYS</td>\n",
       "      <td>2</td>\n",
       "      <td>4</td>\n",
       "      <td>3</td>\n",
       "      <td>0</td>\n",
       "      <td>0</td>\n",
       "    </tr>\n",
       "    <tr>\n",
       "      <th>0</th>\n",
       "      <td>12</td>\n",
       "      <td>OUTBOUND ORDERS 2021</td>\n",
       "      <td>38</td>\n",
       "      <td>31</td>\n",
       "      <td>22</td>\n",
       "      <td>8</td>\n",
       "      <td>2</td>\n",
       "    </tr>\n",
       "    <tr>\n",
       "      <th>1</th>\n",
       "      <td>12</td>\n",
       "      <td>OUTBOUND ORDERS 2022</td>\n",
       "      <td>46</td>\n",
       "      <td>13</td>\n",
       "      <td>9</td>\n",
       "      <td>11</td>\n",
       "      <td>0</td>\n",
       "    </tr>\n",
       "    <tr>\n",
       "      <th>2</th>\n",
       "      <td>12</td>\n",
       "      <td>NEW ORDERS</td>\n",
       "      <td>22</td>\n",
       "      <td>15</td>\n",
       "      <td>10</td>\n",
       "      <td>10</td>\n",
       "      <td>0</td>\n",
       "    </tr>\n",
       "    <tr>\n",
       "      <th>3</th>\n",
       "      <td>12</td>\n",
       "      <td>CARRYOVER ORDERS</td>\n",
       "      <td>2</td>\n",
       "      <td>3</td>\n",
       "      <td>1</td>\n",
       "      <td>1</td>\n",
       "      <td>0</td>\n",
       "    </tr>\n",
       "    <tr>\n",
       "      <th>4</th>\n",
       "      <td>12</td>\n",
       "      <td>OPEN ORDERS &gt; 7 DAYS</td>\n",
       "      <td>1</td>\n",
       "      <td>0</td>\n",
       "      <td>0</td>\n",
       "      <td>0</td>\n",
       "      <td>0</td>\n",
       "    </tr>\n",
       "    <tr>\n",
       "      <th>0</th>\n",
       "      <td>15</td>\n",
       "      <td>OUTBOUND ORDERS 2021</td>\n",
       "      <td>92</td>\n",
       "      <td>151</td>\n",
       "      <td>105</td>\n",
       "      <td>134</td>\n",
       "      <td>90</td>\n",
       "    </tr>\n",
       "    <tr>\n",
       "      <th>1</th>\n",
       "      <td>15</td>\n",
       "      <td>OUTBOUND ORDERS 2022</td>\n",
       "      <td>98</td>\n",
       "      <td>64</td>\n",
       "      <td>63</td>\n",
       "      <td>55</td>\n",
       "      <td>0</td>\n",
       "    </tr>\n",
       "    <tr>\n",
       "      <th>2</th>\n",
       "      <td>15</td>\n",
       "      <td>NEW ORDERS</td>\n",
       "      <td>203</td>\n",
       "      <td>67</td>\n",
       "      <td>69</td>\n",
       "      <td>14</td>\n",
       "      <td>0</td>\n",
       "    </tr>\n",
       "    <tr>\n",
       "      <th>3</th>\n",
       "      <td>15</td>\n",
       "      <td>CARRYOVER ORDERS</td>\n",
       "      <td>67</td>\n",
       "      <td>32</td>\n",
       "      <td>1</td>\n",
       "      <td>8</td>\n",
       "      <td>0</td>\n",
       "    </tr>\n",
       "    <tr>\n",
       "      <th>4</th>\n",
       "      <td>15</td>\n",
       "      <td>OPEN ORDERS &gt; 7 DAYS</td>\n",
       "      <td>11</td>\n",
       "      <td>11</td>\n",
       "      <td>12</td>\n",
       "      <td>12</td>\n",
       "      <td>0</td>\n",
       "    </tr>\n",
       "    <tr>\n",
       "      <th>0</th>\n",
       "      <td>16</td>\n",
       "      <td>OUTBOUND ORDERS 2021</td>\n",
       "      <td>3</td>\n",
       "      <td>2</td>\n",
       "      <td>4</td>\n",
       "      <td>15</td>\n",
       "      <td>7</td>\n",
       "    </tr>\n",
       "  </tbody>\n",
       "</table>\n",
       "</div>"
      ],
      "text/plain": [
       "   Warehouse           Description Monday Tuesday Wednesday Thursday Friday\n",
       "0         10  OUTBOUND ORDERS 2021    571     560       506      928    575\n",
       "1         10  OUTBOUND ORDERS 2022    623     455       243      387      0\n",
       "2         10            NEW ORDERS    294     397       320      300      0\n",
       "3         10      CARRYOVER ORDERS    142     107       154      164      0\n",
       "4         10  OPEN ORDERS > 7 DAYS      2       4         3        0      0\n",
       "0         12  OUTBOUND ORDERS 2021     38      31        22        8      2\n",
       "1         12  OUTBOUND ORDERS 2022     46      13         9       11      0\n",
       "2         12            NEW ORDERS     22      15        10       10      0\n",
       "3         12      CARRYOVER ORDERS      2       3         1        1      0\n",
       "4         12  OPEN ORDERS > 7 DAYS      1       0         0        0      0\n",
       "0         15  OUTBOUND ORDERS 2021     92     151       105      134     90\n",
       "1         15  OUTBOUND ORDERS 2022     98      64        63       55      0\n",
       "2         15            NEW ORDERS    203      67        69       14      0\n",
       "3         15      CARRYOVER ORDERS     67      32         1        8      0\n",
       "4         15  OPEN ORDERS > 7 DAYS     11      11        12       12      0\n",
       "0         16  OUTBOUND ORDERS 2021      3       2         4       15      7"
      ]
     },
     "execution_count": 7,
     "metadata": {},
     "output_type": "execute_result"
    }
   ],
   "source": [
    "# Change the order of the columns. Warehouse first\n",
    "df = df[['Warehouse', 'Description', 'Monday', 'Tuesday', 'Wednesday', 'Thursday', 'Friday']]\n",
    "df.head(16)"
   ]
  },
  {
   "cell_type": "code",
   "execution_count": 8,
   "id": "9ada3320",
   "metadata": {
    "execution": {
     "iopub.execute_input": "2022-12-09T12:34:41.279503Z",
     "iopub.status.busy": "2022-12-09T12:34:41.279503Z",
     "iopub.status.idle": "2022-12-09T12:34:41.292557Z",
     "shell.execute_reply": "2022-12-09T12:34:41.291557Z"
    }
   },
   "outputs": [],
   "source": [
    "# Save DF into json file\n",
    "df.to_json('data/data_card.json', orient='records')"
   ]
  },
  {
   "cell_type": "code",
   "execution_count": 9,
   "id": "e24191d1",
   "metadata": {
    "execution": {
     "iopub.execute_input": "2022-12-09T12:34:41.294557Z",
     "iopub.status.busy": "2022-12-09T12:34:41.294557Z",
     "iopub.status.idle": "2022-12-09T12:34:41.323216Z",
     "shell.execute_reply": "2022-12-09T12:34:41.322213Z"
    }
   },
   "outputs": [],
   "source": [
    "# Close connection\n",
    "cnxn.close()"
   ]
  },
  {
   "cell_type": "code",
   "execution_count": null,
   "id": "d3082fa4",
   "metadata": {},
   "outputs": [],
   "source": []
  },
  {
   "cell_type": "code",
   "execution_count": null,
   "id": "026b7f10",
   "metadata": {},
   "outputs": [],
   "source": []
  },
  {
   "cell_type": "code",
   "execution_count": null,
   "id": "c320c518",
   "metadata": {},
   "outputs": [],
   "source": []
  },
  {
   "cell_type": "code",
   "execution_count": null,
   "id": "e2fd2d98",
   "metadata": {},
   "outputs": [],
   "source": []
  },
  {
   "cell_type": "code",
   "execution_count": null,
   "id": "d5a5162b",
   "metadata": {},
   "outputs": [],
   "source": []
  },
  {
   "cell_type": "code",
   "execution_count": null,
   "id": "4a194b95",
   "metadata": {},
   "outputs": [],
   "source": []
  },
  {
   "cell_type": "code",
   "execution_count": null,
   "id": "0c1bbd7a",
   "metadata": {},
   "outputs": [],
   "source": []
  },
  {
   "cell_type": "code",
   "execution_count": null,
   "id": "659495fc",
   "metadata": {},
   "outputs": [],
   "source": []
  },
  {
   "cell_type": "code",
   "execution_count": null,
   "id": "5736f2e9",
   "metadata": {},
   "outputs": [],
   "source": []
  },
  {
   "cell_type": "code",
   "execution_count": null,
   "id": "4cf693af",
   "metadata": {},
   "outputs": [],
   "source": []
  },
  {
   "cell_type": "code",
   "execution_count": null,
   "id": "7ab1c6f3",
   "metadata": {},
   "outputs": [],
   "source": []
  },
  {
   "cell_type": "code",
   "execution_count": null,
   "id": "2f1e54a4",
   "metadata": {},
   "outputs": [],
   "source": []
  },
  {
   "cell_type": "code",
   "execution_count": null,
   "id": "692cea7b",
   "metadata": {},
   "outputs": [],
   "source": []
  },
  {
   "cell_type": "code",
   "execution_count": null,
   "id": "24836b5c",
   "metadata": {},
   "outputs": [],
   "source": []
  },
  {
   "cell_type": "code",
   "execution_count": null,
   "id": "7592b124",
   "metadata": {},
   "outputs": [],
   "source": []
  },
  {
   "cell_type": "code",
   "execution_count": null,
   "id": "ec14d155",
   "metadata": {},
   "outputs": [],
   "source": []
  },
  {
   "cell_type": "code",
   "execution_count": null,
   "id": "3c68dc03",
   "metadata": {},
   "outputs": [],
   "source": []
  },
  {
   "cell_type": "code",
   "execution_count": 10,
   "id": "40a87e6c",
   "metadata": {
    "execution": {
     "iopub.execute_input": "2022-12-09T12:34:41.326216Z",
     "iopub.status.busy": "2022-12-09T12:34:41.326216Z",
     "iopub.status.idle": "2022-12-09T12:34:41.338300Z",
     "shell.execute_reply": "2022-12-09T12:34:41.338300Z"
    }
   },
   "outputs": [],
   "source": [
    "# Save Waves DF into json file\n",
    "#df2.to_json('data/card.json')\n",
    "\n",
    "# Save Waves DF into json file\n",
    "#df2.to_json('data/card_records.json', orient='records')\n",
    "\n",
    "# Save Waves DF into json file\n",
    "#df2.to_json('data/card_split.json', orient='split')\n",
    "\n",
    "# Save Waves DF into json file\n",
    "#df2.to_json('data/card_index.json', orient='index')\n",
    "\n",
    "# Save Waves DF into json file\n",
    "#df2.to_json('data/card_columns.json', orient='columns')\n",
    "\n",
    "# Save Waves DF into json file\n",
    "#df2.to_json('data/card_values.json', orient='values')\n",
    "\n",
    "# Save Waves DF into json file\n",
    "#df2.to_json('data/card_table.json', orient='table')"
   ]
  },
  {
   "cell_type": "code",
   "execution_count": null,
   "id": "23075794",
   "metadata": {},
   "outputs": [],
   "source": []
  },
  {
   "cell_type": "code",
   "execution_count": null,
   "id": "1405dc3b",
   "metadata": {},
   "outputs": [],
   "source": []
  },
  {
   "cell_type": "code",
   "execution_count": null,
   "id": "8134cb4e",
   "metadata": {},
   "outputs": [],
   "source": []
  },
  {
   "cell_type": "code",
   "execution_count": null,
   "id": "eaf7fde3",
   "metadata": {},
   "outputs": [],
   "source": []
  },
  {
   "cell_type": "code",
   "execution_count": null,
   "id": "9c03e564",
   "metadata": {},
   "outputs": [],
   "source": []
  },
  {
   "cell_type": "code",
   "execution_count": null,
   "id": "d7bed1ea",
   "metadata": {},
   "outputs": [],
   "source": []
  },
  {
   "cell_type": "code",
   "execution_count": null,
   "id": "358b1970",
   "metadata": {},
   "outputs": [],
   "source": []
  },
  {
   "cell_type": "code",
   "execution_count": null,
   "id": "6373047f",
   "metadata": {},
   "outputs": [],
   "source": []
  },
  {
   "cell_type": "code",
   "execution_count": null,
   "id": "c65d7d17",
   "metadata": {},
   "outputs": [],
   "source": []
  },
  {
   "cell_type": "code",
   "execution_count": null,
   "id": "9e0f8c54",
   "metadata": {},
   "outputs": [],
   "source": []
  },
  {
   "cell_type": "code",
   "execution_count": null,
   "id": "ed1eec71",
   "metadata": {},
   "outputs": [],
   "source": []
  },
  {
   "cell_type": "code",
   "execution_count": null,
   "id": "2176a82f",
   "metadata": {},
   "outputs": [],
   "source": []
  },
  {
   "cell_type": "code",
   "execution_count": null,
   "id": "199f938d",
   "metadata": {},
   "outputs": [],
   "source": []
  },
  {
   "cell_type": "code",
   "execution_count": null,
   "id": "30f09d04",
   "metadata": {},
   "outputs": [],
   "source": []
  }
 ],
 "metadata": {
  "kernelspec": {
   "display_name": "PythonData",
   "language": "python",
   "name": "pythondata"
  },
  "language_info": {
   "codemirror_mode": {
    "name": "ipython",
    "version": 3
   },
   "file_extension": ".py",
   "mimetype": "text/x-python",
   "name": "python",
   "nbconvert_exporter": "python",
   "pygments_lexer": "ipython3",
   "version": "3.7.11"
  }
 },
 "nbformat": 4,
 "nbformat_minor": 5
}
